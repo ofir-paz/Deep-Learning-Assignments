{
 "cells": [
  {
   "cell_type": "markdown",
   "metadata": {},
   "source": [
    "# Teacher's Assignment No. 13"
   ]
  },
  {
   "cell_type": "markdown",
   "metadata": {},
   "source": [
    "***Author:*** *Ofir Paz* $\\qquad$ ***Version:*** *20.04.2024* $\\qquad$ ***Course:*** *22961 - Deep Learning*\n",
    "\n",
    "Welcome to the third assignment of the course *Deep Learning*. \\\n",
    "In this assignment we will explore Pytorch's DataLoader, and use it to train a neural network for classification purposes. "
   ]
  },
  {
   "cell_type": "markdown",
   "metadata": {},
   "source": [
    "## Imports"
   ]
  },
  {
   "cell_type": "markdown",
   "metadata": {},
   "source": [
    "First, we will import the required packages for this assignment.\n",
    "- [pytorch](https://pytorch.org/) - One of the most fundemental and famous tensor handling library.\n",
    "- [numpy](https://numpy.org) - The fundamental package for scientific computing with Python.\n",
    "- [pandas](https://pandas.pydata.org) - Library to handle data in Python.\n",
    "- [matplotlib](https://matplotlib.org) - Library to plot graphs in Python."
   ]
  },
  {
   "cell_type": "code",
   "execution_count": 1,
   "metadata": {},
   "outputs": [],
   "source": [
    "import torch  # pytorch.\n",
    "import torch.nn as nn  # neural network module.\n",
    "import torch.optim as optim  # optimization module.\n",
    "import torch.nn.functional as F  # functional module.\n",
    "import numpy as np  # numpy.\n",
    "import torchvision.transforms as transforms  # image transformation module.\n",
    "from torch.utils.data import DataLoader, Dataset  # data loader and dataset base class.\n",
    "from torchmetrics import Accuracy  # accuracy metric.\n",
    "import pandas as pd  # handling data.\n",
    "import matplotlib.pyplot as plt  # plotting.\n",
    "from typing import Literal  # type hinting."
   ]
  },
  {
   "cell_type": "markdown",
   "metadata": {},
   "source": [
    "## Diabetes Dataset"
   ]
  },
  {
   "cell_type": "markdown",
   "metadata": {},
   "source": [
    "In this section, we will handle the pre processing of the provided *Diabetes dataset*. The Diabetes dataset is a csv file containing 442 different records for different patients holding information about the patient, and an additional column (Y) with the Diabetes' progression rate."
   ]
  },
  {
   "cell_type": "code",
   "execution_count": 2,
   "metadata": {},
   "outputs": [
    {
     "data": {
      "application/vnd.microsoft.datawrangler.viewer.v0+json": {
       "columns": [
        {
         "name": "index",
         "rawType": "int64",
         "type": "integer"
        },
        {
         "name": "AGE",
         "rawType": "int64",
         "type": "integer"
        },
        {
         "name": "SEX",
         "rawType": "int64",
         "type": "integer"
        },
        {
         "name": "BMI",
         "rawType": "float64",
         "type": "float"
        },
        {
         "name": "BP",
         "rawType": "float64",
         "type": "float"
        },
        {
         "name": "S1",
         "rawType": "int64",
         "type": "integer"
        },
        {
         "name": "S2",
         "rawType": "float64",
         "type": "float"
        },
        {
         "name": "S3",
         "rawType": "float64",
         "type": "float"
        },
        {
         "name": "S4",
         "rawType": "float64",
         "type": "float"
        },
        {
         "name": "S5",
         "rawType": "float64",
         "type": "float"
        },
        {
         "name": "S6",
         "rawType": "int64",
         "type": "integer"
        },
        {
         "name": "Y",
         "rawType": "int64",
         "type": "integer"
        }
       ],
       "conversionMethod": "pd.DataFrame",
       "ref": "63d9c764-c8ef-4e19-ad94-49192e25fd3b",
       "rows": [
        [
         "0",
         "59",
         "2",
         "32.1",
         "101.0",
         "157",
         "93.2",
         "38.0",
         "4.0",
         "4.8598",
         "87",
         "151"
        ],
        [
         "1",
         "48",
         "1",
         "21.6",
         "87.0",
         "183",
         "103.2",
         "70.0",
         "3.0",
         "3.8918",
         "69",
         "75"
        ],
        [
         "2",
         "72",
         "2",
         "30.5",
         "93.0",
         "156",
         "93.6",
         "41.0",
         "4.0",
         "4.6728",
         "85",
         "141"
        ],
        [
         "3",
         "24",
         "1",
         "25.3",
         "84.0",
         "198",
         "131.4",
         "40.0",
         "5.0",
         "4.8903",
         "89",
         "206"
        ],
        [
         "4",
         "50",
         "1",
         "23.0",
         "101.0",
         "192",
         "125.4",
         "52.0",
         "4.0",
         "4.2905",
         "80",
         "135"
        ]
       ],
       "shape": {
        "columns": 11,
        "rows": 5
       }
      },
      "text/html": [
       "<div>\n",
       "<style scoped>\n",
       "    .dataframe tbody tr th:only-of-type {\n",
       "        vertical-align: middle;\n",
       "    }\n",
       "\n",
       "    .dataframe tbody tr th {\n",
       "        vertical-align: top;\n",
       "    }\n",
       "\n",
       "    .dataframe thead th {\n",
       "        text-align: right;\n",
       "    }\n",
       "</style>\n",
       "<table border=\"1\" class=\"dataframe\">\n",
       "  <thead>\n",
       "    <tr style=\"text-align: right;\">\n",
       "      <th></th>\n",
       "      <th>AGE</th>\n",
       "      <th>SEX</th>\n",
       "      <th>BMI</th>\n",
       "      <th>BP</th>\n",
       "      <th>S1</th>\n",
       "      <th>S2</th>\n",
       "      <th>S3</th>\n",
       "      <th>S4</th>\n",
       "      <th>S5</th>\n",
       "      <th>S6</th>\n",
       "      <th>Y</th>\n",
       "    </tr>\n",
       "  </thead>\n",
       "  <tbody>\n",
       "    <tr>\n",
       "      <th>0</th>\n",
       "      <td>59</td>\n",
       "      <td>2</td>\n",
       "      <td>32.1</td>\n",
       "      <td>101.0</td>\n",
       "      <td>157</td>\n",
       "      <td>93.2</td>\n",
       "      <td>38.0</td>\n",
       "      <td>4.0</td>\n",
       "      <td>4.8598</td>\n",
       "      <td>87</td>\n",
       "      <td>151</td>\n",
       "    </tr>\n",
       "    <tr>\n",
       "      <th>1</th>\n",
       "      <td>48</td>\n",
       "      <td>1</td>\n",
       "      <td>21.6</td>\n",
       "      <td>87.0</td>\n",
       "      <td>183</td>\n",
       "      <td>103.2</td>\n",
       "      <td>70.0</td>\n",
       "      <td>3.0</td>\n",
       "      <td>3.8918</td>\n",
       "      <td>69</td>\n",
       "      <td>75</td>\n",
       "    </tr>\n",
       "    <tr>\n",
       "      <th>2</th>\n",
       "      <td>72</td>\n",
       "      <td>2</td>\n",
       "      <td>30.5</td>\n",
       "      <td>93.0</td>\n",
       "      <td>156</td>\n",
       "      <td>93.6</td>\n",
       "      <td>41.0</td>\n",
       "      <td>4.0</td>\n",
       "      <td>4.6728</td>\n",
       "      <td>85</td>\n",
       "      <td>141</td>\n",
       "    </tr>\n",
       "    <tr>\n",
       "      <th>3</th>\n",
       "      <td>24</td>\n",
       "      <td>1</td>\n",
       "      <td>25.3</td>\n",
       "      <td>84.0</td>\n",
       "      <td>198</td>\n",
       "      <td>131.4</td>\n",
       "      <td>40.0</td>\n",
       "      <td>5.0</td>\n",
       "      <td>4.8903</td>\n",
       "      <td>89</td>\n",
       "      <td>206</td>\n",
       "    </tr>\n",
       "    <tr>\n",
       "      <th>4</th>\n",
       "      <td>50</td>\n",
       "      <td>1</td>\n",
       "      <td>23.0</td>\n",
       "      <td>101.0</td>\n",
       "      <td>192</td>\n",
       "      <td>125.4</td>\n",
       "      <td>52.0</td>\n",
       "      <td>4.0</td>\n",
       "      <td>4.2905</td>\n",
       "      <td>80</td>\n",
       "      <td>135</td>\n",
       "    </tr>\n",
       "  </tbody>\n",
       "</table>\n",
       "</div>"
      ],
      "text/plain": [
       "   AGE  SEX   BMI     BP   S1     S2    S3   S4      S5  S6    Y\n",
       "0   59    2  32.1  101.0  157   93.2  38.0  4.0  4.8598  87  151\n",
       "1   48    1  21.6   87.0  183  103.2  70.0  3.0  3.8918  69   75\n",
       "2   72    2  30.5   93.0  156   93.6  41.0  4.0  4.6728  85  141\n",
       "3   24    1  25.3   84.0  198  131.4  40.0  5.0  4.8903  89  206\n",
       "4   50    1  23.0  101.0  192  125.4  52.0  4.0  4.2905  80  135"
      ]
     },
     "execution_count": 2,
     "metadata": {},
     "output_type": "execute_result"
    }
   ],
   "source": [
    "# Load the dataset with pandas.\n",
    "data = pd.read_csv('diabetes.csv', sep='\\t')\n",
    "\n",
    "# Display the first 5 rows of the dataset.\n",
    "data.head()"
   ]
  },
  {
   "cell_type": "markdown",
   "metadata": {},
   "source": [
    "We would like to divide the dataset to $10$ classes which represent the tenth precentile of the value of $Y$."
   ]
  },
  {
   "cell_type": "code",
   "execution_count": 3,
   "metadata": {},
   "outputs": [
    {
     "data": {
      "application/vnd.microsoft.datawrangler.viewer.v0+json": {
       "columns": [
        {
         "name": "index",
         "rawType": "int64",
         "type": "integer"
        },
        {
         "name": "AGE",
         "rawType": "int64",
         "type": "integer"
        },
        {
         "name": "SEX",
         "rawType": "int64",
         "type": "integer"
        },
        {
         "name": "BMI",
         "rawType": "float64",
         "type": "float"
        },
        {
         "name": "BP",
         "rawType": "float64",
         "type": "float"
        },
        {
         "name": "S1",
         "rawType": "int64",
         "type": "integer"
        },
        {
         "name": "S2",
         "rawType": "float64",
         "type": "float"
        },
        {
         "name": "S3",
         "rawType": "float64",
         "type": "float"
        },
        {
         "name": "S4",
         "rawType": "float64",
         "type": "float"
        },
        {
         "name": "S5",
         "rawType": "float64",
         "type": "float"
        },
        {
         "name": "S6",
         "rawType": "int64",
         "type": "integer"
        },
        {
         "name": "Y",
         "rawType": "int64",
         "type": "integer"
        },
        {
         "name": "Class",
         "rawType": "float64",
         "type": "float"
        }
       ],
       "conversionMethod": "pd.DataFrame",
       "ref": "647c71f8-81c8-4c01-8504-059d7a5ce5d5",
       "rows": [
        [
         "0",
         "59",
         "2",
         "32.1",
         "101.0",
         "157",
         "93.2",
         "38.0",
         "4.0",
         "4.8598",
         "87",
         "151",
         "5.0"
        ],
        [
         "1",
         "48",
         "1",
         "21.6",
         "87.0",
         "183",
         "103.2",
         "70.0",
         "3.0",
         "3.8918",
         "69",
         "75",
         "1.0"
        ],
        [
         "2",
         "72",
         "2",
         "30.5",
         "93.0",
         "156",
         "93.6",
         "41.0",
         "4.0",
         "4.6728",
         "85",
         "141",
         "5.0"
        ],
        [
         "3",
         "24",
         "1",
         "25.3",
         "84.0",
         "198",
         "131.4",
         "40.0",
         "5.0",
         "4.8903",
         "89",
         "206",
         "7.0"
        ],
        [
         "4",
         "50",
         "1",
         "23.0",
         "101.0",
         "192",
         "125.4",
         "52.0",
         "4.0",
         "4.2905",
         "80",
         "135",
         "4.0"
        ]
       ],
       "shape": {
        "columns": 12,
        "rows": 5
       }
      },
      "text/html": [
       "<div>\n",
       "<style scoped>\n",
       "    .dataframe tbody tr th:only-of-type {\n",
       "        vertical-align: middle;\n",
       "    }\n",
       "\n",
       "    .dataframe tbody tr th {\n",
       "        vertical-align: top;\n",
       "    }\n",
       "\n",
       "    .dataframe thead th {\n",
       "        text-align: right;\n",
       "    }\n",
       "</style>\n",
       "<table border=\"1\" class=\"dataframe\">\n",
       "  <thead>\n",
       "    <tr style=\"text-align: right;\">\n",
       "      <th></th>\n",
       "      <th>AGE</th>\n",
       "      <th>SEX</th>\n",
       "      <th>BMI</th>\n",
       "      <th>BP</th>\n",
       "      <th>S1</th>\n",
       "      <th>S2</th>\n",
       "      <th>S3</th>\n",
       "      <th>S4</th>\n",
       "      <th>S5</th>\n",
       "      <th>S6</th>\n",
       "      <th>Y</th>\n",
       "      <th>Class</th>\n",
       "    </tr>\n",
       "  </thead>\n",
       "  <tbody>\n",
       "    <tr>\n",
       "      <th>0</th>\n",
       "      <td>59</td>\n",
       "      <td>2</td>\n",
       "      <td>32.1</td>\n",
       "      <td>101.0</td>\n",
       "      <td>157</td>\n",
       "      <td>93.2</td>\n",
       "      <td>38.0</td>\n",
       "      <td>4.0</td>\n",
       "      <td>4.8598</td>\n",
       "      <td>87</td>\n",
       "      <td>151</td>\n",
       "      <td>5.0</td>\n",
       "    </tr>\n",
       "    <tr>\n",
       "      <th>1</th>\n",
       "      <td>48</td>\n",
       "      <td>1</td>\n",
       "      <td>21.6</td>\n",
       "      <td>87.0</td>\n",
       "      <td>183</td>\n",
       "      <td>103.2</td>\n",
       "      <td>70.0</td>\n",
       "      <td>3.0</td>\n",
       "      <td>3.8918</td>\n",
       "      <td>69</td>\n",
       "      <td>75</td>\n",
       "      <td>1.0</td>\n",
       "    </tr>\n",
       "    <tr>\n",
       "      <th>2</th>\n",
       "      <td>72</td>\n",
       "      <td>2</td>\n",
       "      <td>30.5</td>\n",
       "      <td>93.0</td>\n",
       "      <td>156</td>\n",
       "      <td>93.6</td>\n",
       "      <td>41.0</td>\n",
       "      <td>4.0</td>\n",
       "      <td>4.6728</td>\n",
       "      <td>85</td>\n",
       "      <td>141</td>\n",
       "      <td>5.0</td>\n",
       "    </tr>\n",
       "    <tr>\n",
       "      <th>3</th>\n",
       "      <td>24</td>\n",
       "      <td>1</td>\n",
       "      <td>25.3</td>\n",
       "      <td>84.0</td>\n",
       "      <td>198</td>\n",
       "      <td>131.4</td>\n",
       "      <td>40.0</td>\n",
       "      <td>5.0</td>\n",
       "      <td>4.8903</td>\n",
       "      <td>89</td>\n",
       "      <td>206</td>\n",
       "      <td>7.0</td>\n",
       "    </tr>\n",
       "    <tr>\n",
       "      <th>4</th>\n",
       "      <td>50</td>\n",
       "      <td>1</td>\n",
       "      <td>23.0</td>\n",
       "      <td>101.0</td>\n",
       "      <td>192</td>\n",
       "      <td>125.4</td>\n",
       "      <td>52.0</td>\n",
       "      <td>4.0</td>\n",
       "      <td>4.2905</td>\n",
       "      <td>80</td>\n",
       "      <td>135</td>\n",
       "      <td>4.0</td>\n",
       "    </tr>\n",
       "  </tbody>\n",
       "</table>\n",
       "</div>"
      ],
      "text/plain": [
       "   AGE  SEX   BMI     BP   S1     S2    S3   S4      S5  S6    Y  Class\n",
       "0   59    2  32.1  101.0  157   93.2  38.0  4.0  4.8598  87  151    5.0\n",
       "1   48    1  21.6   87.0  183  103.2  70.0  3.0  3.8918  69   75    1.0\n",
       "2   72    2  30.5   93.0  156   93.6  41.0  4.0  4.6728  85  141    5.0\n",
       "3   24    1  25.3   84.0  198  131.4  40.0  5.0  4.8903  89  206    7.0\n",
       "4   50    1  23.0  101.0  192  125.4  52.0  4.0  4.2905  80  135    4.0"
      ]
     },
     "execution_count": 3,
     "metadata": {},
     "output_type": "execute_result"
    }
   ],
   "source": [
    "def get_labeled_data(data: pd.DataFrame, num_precentiles: int = 10) -> pd.DataFrame:\n",
    "    # Copy the original dataset.\n",
    "    labeled_data = data.copy()\n",
    "\n",
    "    # Create the new column `Class` and initialize it with NaN.\n",
    "    labeled_data['Class'] = np.NaN\n",
    "\n",
    "    # Iterate over the percentiles.\n",
    "    for klass in np.arange(num_precentiles):\n",
    "        # Calculate the k-th percentile of the column 'Y'.\n",
    "        percentile = data['Y'].quantile(klass / num_precentiles)\n",
    "\n",
    "        # Label the matching class for all rows where \n",
    "        #  the value of 'Y' is greater or equal to the percentile.\n",
    "        labeled_data.loc[(data['Y'] >= percentile).values, 'Class'] = klass\n",
    "\n",
    "    return labeled_data\n",
    "\n",
    "tenth_percentile_data = get_labeled_data(data, num_precentiles=10)\n",
    "\n",
    "tenth_percentile_data.head()"
   ]
  },
  {
   "cell_type": "markdown",
   "metadata": {},
   "source": [
    "Now we will create the wraper pytorch dataset to hold the labeled dataset."
   ]
  },
  {
   "cell_type": "code",
   "execution_count": 4,
   "metadata": {},
   "outputs": [],
   "source": [
    "class DiabetesDataset(Dataset):\n",
    "    def __init__(self, data: pd.DataFrame, transform: transforms.Compose | None = None, \n",
    "                 drop_Y: bool = False):\n",
    "        self.data = data\n",
    "        self.transform = transform\n",
    "        self.drop_Y = drop_Y\n",
    "\n",
    "    def __len__(self):\n",
    "        return len(self.data)\n",
    "\n",
    "    def __getitem__(self, index):\n",
    "        row = self.data.iloc[index]\n",
    "        x = row.drop('Class')\n",
    "        if self.drop_Y:\n",
    "            x = x.drop('Y')\n",
    "        if self.transform:\n",
    "            x = self.transform(x)\n",
    "        y = row['Class']\n",
    "        y = torch.tensor(y, dtype=torch.long)\n",
    "        return x, y"
   ]
  },
  {
   "cell_type": "markdown",
   "metadata": {},
   "source": [
    "Here we use pytorch's dataloader to create a data loader for the dataset and display a single mini-batch of data. "
   ]
  },
  {
   "cell_type": "code",
   "execution_count": 5,
   "metadata": {},
   "outputs": [],
   "source": [
    "BATCH_SIZE = 10\n",
    "TRAIN_VAL_RATIO = 0.8\n",
    "\n",
    "transform = transforms.Compose([\n",
    "    transforms.Lambda(lambda x: torch.from_numpy(x.values.astype(np.float32))),\n",
    "    # transforms.Lambda(lambda x: (x - x.mean()) / x.std()),\n",
    "])\n",
    "\n",
    "# Split the dataset into a training and a validation set.\n",
    "train_data = tenth_percentile_data.sample(frac=TRAIN_VAL_RATIO, random_state=42)\n",
    "val_data = tenth_percentile_data.drop(train_data.index)\n",
    "\n",
    "# Create the datasets.\n",
    "train_dataset_with_Y = DiabetesDataset(train_data, transform=transform)\n",
    "val_dataset_with_Y = DiabetesDataset(val_data, transform=transform)\n",
    "\n",
    "# Create the dataloaders.\n",
    "train_loader_with_Y = DataLoader(train_dataset_with_Y, batch_size=BATCH_SIZE, shuffle=True)\n",
    "val_loader_with_Y = DataLoader(val_dataset_with_Y, batch_size=BATCH_SIZE, shuffle=False)"
   ]
  },
  {
   "cell_type": "code",
   "execution_count": 6,
   "metadata": {},
   "outputs": [
    {
     "name": "stdout",
     "output_type": "stream",
     "text": [
      "torch.Size([10, 11]) tensor([[ 40.0000,   1.0000,  26.9000,  92.0000, 203.0000, 119.8000,  70.0000,\n",
      "           3.0000,   4.1897,  81.0000,  60.0000],\n",
      "        [ 39.0000,   2.0000,  24.0000,  89.6700, 190.0000, 113.6000,  52.0000,\n",
      "           3.6500,   4.8040, 101.0000,  74.0000],\n",
      "        [ 67.0000,   2.0000,  23.0000,  70.0000, 184.0000, 128.0000,  35.0000,\n",
      "           5.0000,   4.6540,  99.0000, 102.0000],\n",
      "        [ 52.0000,   1.0000,  28.5000, 110.0000, 195.0000,  97.2000,  60.0000,\n",
      "           3.0000,   5.2417,  85.0000, 265.0000],\n",
      "        [ 49.0000,   2.0000,  28.8000,  92.0000, 207.0000, 140.0000,  44.0000,\n",
      "           5.0000,   4.7449,  92.0000, 196.0000],\n",
      "        [ 42.0000,   2.0000,  30.6000, 101.0000, 269.0000, 172.2000,  50.0000,\n",
      "           5.0000,   5.4553, 106.0000, 272.0000],\n",
      "        [ 62.0000,   2.0000,  37.8000, 119.0000, 113.0000,  51.0000,  31.0000,\n",
      "           4.0000,   5.0434,  84.0000, 281.0000],\n",
      "        [ 51.0000,   2.0000,  28.1000, 106.0000, 202.0000, 122.2000,  55.0000,\n",
      "           4.0000,   4.8203,  87.0000, 265.0000],\n",
      "        [ 41.0000,   1.0000,  32.4000,  94.0000, 171.0000, 104.4000,  56.0000,\n",
      "           3.0000,   3.9703,  76.0000,  95.0000],\n",
      "        [ 60.0000,   2.0000,  33.0000,  97.0000, 217.0000, 125.6000,  45.0000,\n",
      "           5.0000,   5.4467, 112.0000, 295.0000]])\n",
      "torch.Size([10]) tensor([1, 1, 3, 9, 6, 9, 9, 9, 3, 9])\n"
     ]
    }
   ],
   "source": [
    "# Print a mini-batch.\n",
    "for x, y in train_loader_with_Y:\n",
    "    print(x.shape, x)  # 10 samples with 11 features each.\n",
    "    print(y.shape, y)  # 10 labels.\n",
    "    break"
   ]
  },
  {
   "cell_type": "markdown",
   "metadata": {},
   "source": [
    "## The Neural Network"
   ]
  },
  {
   "cell_type": "markdown",
   "metadata": {},
   "source": [
    "In this section, we will design the architecture for the *Neural Network* (NN) to classify the tenth precentile of the Diabetes' progression, and train it. We will use the data loader defined above and `torch.nn` to create the architecture. Since we have a small dataset with only $11$ features, we will simply create a fully connected NN with a small number of layers and neurons."
   ]
  },
  {
   "cell_type": "code",
   "execution_count": 7,
   "metadata": {},
   "outputs": [],
   "source": [
    "class DiabetesPrecentileClassifer(nn.Module):\n",
    "    def __init__(self, input_size: int = 11, num_classes: int = 10):\n",
    "        super(DiabetesPrecentileClassifer, self).__init__()\n",
    "        self.fc1 = nn.Linear(input_size, 15)\n",
    "        self.fc2 = nn.Linear(15, 30)\n",
    "        self.fc3 = nn.Linear(30, 30)\n",
    "        self.fc4 = nn.Linear(30, num_classes)\n",
    "\n",
    "    def forward(self, x):\n",
    "        x = F.relu(self.fc1(x))\n",
    "        x = F.relu(self.fc2(x))\n",
    "        x = F.relu(self.fc3(x))\n",
    "        x = self.fc4(x)\n",
    "        return x"
   ]
  },
  {
   "cell_type": "markdown",
   "metadata": {},
   "source": [
    "The next code block introduces the train loop function. The train loop iterates over the dataloader and uses the optimizer and criterion to update the NN weights in the gradient decent algorithm."
   ]
  },
  {
   "cell_type": "code",
   "execution_count": 8,
   "metadata": {},
   "outputs": [],
   "source": [
    "def train(model: nn.Module, data_loader: DataLoader, num_epochs: int = 30, lr: float = 0.001, \n",
    "          wd: float = 0., loss_func: Literal['log', 'MSE'] = 'log', try_cuda: bool = False,\n",
    "          print_cost: bool = False, print_stride: int = 1) -> list[float]:\n",
    "    \"\"\"\n",
    "    Train the model.\n",
    "    \n",
    "    :param model: The model to train.\n",
    "    :param data_loader: The data loader.\n",
    "    :param num_epochs: The number of epochs.\n",
    "    :param lr: The learning rate.\n",
    "    :param wd: The weight decay.\n",
    "    :param loss_func: The loss function to use can either be `log` or `MSE`.\n",
    "    :param try_cuda: A flag indicating if the model should be trained on the GPU.\n",
    "    :param print_cost: A flag indicating if the cost should be printed.\n",
    "    :param print_stride: The stride for printing the cost.\n",
    "    :return: The total cost of each epoch.\n",
    "    \"\"\"\n",
    "    \n",
    "    costs: list[float] = []\n",
    "    \n",
    "    use_cuda = try_cuda and torch.cuda.is_available()\n",
    "    if use_cuda:\n",
    "        print(\"Using CUDA for traininig.\")\n",
    "        model = model.cuda()\n",
    "\n",
    "    # Create the optimizer and criterion.\n",
    "    optimizer = optim.Adam(model.parameters(), lr=lr, weight_decay=wd)\n",
    "    criterion = nn.CrossEntropyLoss() if loss_func == 'log' else nn.MSELoss()  # log or MSE.\n",
    "\n",
    "    for epoch in range(num_epochs):\n",
    "        running_loss = 0.\n",
    "        for x, y in data_loader:\n",
    "            if use_cuda:\n",
    "                x, y = x.cuda(), y.cuda()\n",
    "\n",
    "            # zero the parameter gradients\n",
    "            optimizer.zero_grad()\n",
    "\n",
    "            # forward + backward + optimize\n",
    "            y_hat = model(x)\n",
    "\n",
    "            if loss_func == 'MSE':\n",
    "                y = y.float()\n",
    "                y_hat = y_hat.squeeze()\n",
    "            \n",
    "            loss = criterion(y_hat, y)\n",
    "            loss.backward()\n",
    "            optimizer.step()\n",
    "\n",
    "            # Calc loss\n",
    "            lloss = loss.item()\n",
    "            running_loss += lloss * x.size(0)\n",
    "\n",
    "        epoch_loss = running_loss / (len(data_loader) * BATCH_SIZE)\n",
    "        costs.append(epoch_loss)\n",
    "            \n",
    "        if print_cost and (epoch % print_stride == 0 or epoch == num_epochs - 1):\n",
    "            print(f\"\\r[epoch: {epoch+1}/{num_epochs}] Total Loss: {epoch_loss}\")\n",
    "\n",
    "    return costs"
   ]
  },
  {
   "cell_type": "code",
   "execution_count": 9,
   "metadata": {},
   "outputs": [
    {
     "name": "stdout",
     "output_type": "stream",
     "text": [
      "[epoch: 1/150] Total Loss: 2.4342058327462937\n",
      "[epoch: 21/150] Total Loss: 0.7517108311255772\n",
      "[epoch: 41/150] Total Loss: 0.6538090634677145\n",
      "[epoch: 61/150] Total Loss: 0.6072984392444293\n",
      "[epoch: 81/150] Total Loss: 0.5127835932705137\n",
      "[epoch: 101/150] Total Loss: 0.443278653257423\n",
      "[epoch: 121/150] Total Loss: 0.4374127498103513\n",
      "[epoch: 141/150] Total Loss: 0.353976913748516\n",
      "[epoch: 150/150] Total Loss: 0.3325123645572199\n",
      "\n",
      "REDUCED LEARNING RATE TO 0.0001\n",
      "\n",
      "[epoch: 1/75] Total Loss: 0.29542886890057063\n",
      "[epoch: 21/75] Total Loss: 0.26321720619582467\n",
      "[epoch: 41/75] Total Loss: 0.2605279503597154\n",
      "[epoch: 61/75] Total Loss: 0.25168392195676764\n",
      "[epoch: 75/75] Total Loss: 0.24475348111655976\n"
     ]
    }
   ],
   "source": [
    "# Train the network.\n",
    "classifer_with_Y = DiabetesPrecentileClassifer()\n",
    "\n",
    "train(classifer_with_Y, train_loader_with_Y, num_epochs=150, lr=0.001,\n",
    "      print_cost=True, print_stride=20)\n",
    "print(\"\\nREDUCED LEARNING RATE TO 0.0001\\n\")\n",
    "train(classifer_with_Y, train_loader_with_Y, num_epochs=75, lr=0.0001,\n",
    "      print_cost=True, print_stride=20);"
   ]
  },
  {
   "cell_type": "code",
   "execution_count": 10,
   "metadata": {},
   "outputs": [],
   "source": [
    "def evaluate(model: nn.Module, data_loader: DataLoader) -> float:\n",
    "    \"\"\"\n",
    "    Evaluate the model.\n",
    "    \n",
    "    :param model: The model.\n",
    "    :param data_loader: The data loader.\n",
    "    :return: The accuracy\n",
    "    \"\"\"\n",
    "    accuracy_module = Accuracy(task=\"multiclass\", num_classes=model.fc4.out_features)\n",
    "    all_prob_preditions, all_labels = torch.tensor([]), torch.tensor([])\n",
    "\n",
    "    with torch.no_grad():\n",
    "        for inputs, labels in data_loader:\n",
    "            prob_preditions = model(inputs)\n",
    "            all_prob_preditions = torch.cat((all_prob_preditions, prob_preditions))\n",
    "            all_labels = torch.cat((all_labels, labels))\n",
    "\n",
    "    accuracy = accuracy_module(all_prob_preditions.argmax(dim=-1), all_labels)\n",
    "    \n",
    "    return accuracy"
   ]
  },
  {
   "cell_type": "code",
   "execution_count": 11,
   "metadata": {},
   "outputs": [
    {
     "name": "stdout",
     "output_type": "stream",
     "text": [
      "Accuracy: 91.53%\n",
      "Accuracy: 62.50%\n"
     ]
    }
   ],
   "source": [
    "# Evaluate the network.\n",
    "print(f\"Accuracy: {evaluate(classifer_with_Y, train_loader_with_Y):.2%}\")\n",
    "print(f\"Accuracy: {evaluate(classifer_with_Y, val_loader_with_Y):.2%}\")"
   ]
  },
  {
   "cell_type": "code",
   "execution_count": 12,
   "metadata": {},
   "outputs": [
    {
     "name": "stdout",
     "output_type": "stream",
     "text": [
      "[epoch: 1/150] Total Loss: 3.280482749144236\n",
      "[epoch: 21/150] Total Loss: 2.1021368351247576\n",
      "[epoch: 41/150] Total Loss: 2.071967985894945\n",
      "[epoch: 61/150] Total Loss: 1.984591962893804\n",
      "[epoch: 81/150] Total Loss: 1.8943229430251651\n",
      "[epoch: 101/150] Total Loss: 1.8363903277450138\n",
      "[epoch: 121/150] Total Loss: 1.7934266852007972\n",
      "[epoch: 141/150] Total Loss: 1.7298329638110266\n",
      "[epoch: 150/150] Total Loss: 1.714059164788988\n",
      "\n",
      "REDUCED LEARNING RATE TO 0.0001\n",
      "\n",
      "[epoch: 1/75] Total Loss: 1.6626202868090736\n",
      "[epoch: 21/75] Total Loss: 1.6351635621653662\n",
      "[epoch: 41/75] Total Loss: 1.6283966329362658\n",
      "[epoch: 61/75] Total Loss: 1.6174910253948636\n",
      "[epoch: 75/75] Total Loss: 1.616446562608083\n"
     ]
    }
   ],
   "source": [
    "# Create the datasets without the `Y` values.\n",
    "train_dataset_without_Y = DiabetesDataset(train_data, transform=transform, drop_Y=True)\n",
    "val_dataset_without_Y = DiabetesDataset(val_data, transform=transform, drop_Y=True)\n",
    "\n",
    "# Create the dataloaders without the `Y` values.\n",
    "train_loader_without_Y = DataLoader(train_dataset_without_Y, batch_size=BATCH_SIZE, shuffle=True)\n",
    "val_loader_without_Y = DataLoader(val_dataset_without_Y, batch_size=BATCH_SIZE, shuffle=False)\n",
    "\n",
    "# Create the model without the `Y` values.\n",
    "classifer_without_Y = DiabetesPrecentileClassifer(input_size=10)\n",
    "\n",
    "train(classifer_without_Y, train_loader_without_Y, num_epochs=150, lr=0.001,\n",
    "      print_cost=True, print_stride=20)\n",
    "print(\"\\nREDUCED LEARNING RATE TO 0.0001\\n\")\n",
    "train(classifer_without_Y, train_loader_without_Y, num_epochs=75, lr=0.0001,\n",
    "      print_cost=True, print_stride=20);"
   ]
  },
  {
   "cell_type": "code",
   "execution_count": 13,
   "metadata": {},
   "outputs": [
    {
     "name": "stdout",
     "output_type": "stream",
     "text": [
      "Accuracy: 39.27%\n",
      "Accuracy: 20.45%\n"
     ]
    }
   ],
   "source": [
    "print(f\"Accuracy: {evaluate(classifer_without_Y, train_loader_without_Y):.2%}\")\n",
    "print(f\"Accuracy: {evaluate(classifer_without_Y, val_loader_without_Y):.2%}\")"
   ]
  },
  {
   "cell_type": "markdown",
   "metadata": {},
   "source": [
    "We trained two neural networks on the dataset to predict the classes. One of the neural networks had the `Y` values as a feature, and the other one didn't. The classes were directly computed through the `Y` values, thus it is expected that the first NN will perform better."
   ]
  },
  {
   "cell_type": "markdown",
   "metadata": {},
   "source": [
    "In the next section, we will divide the dataset to $100$ classes instead of $10$ and train the networks again on this new dataset. The classes will now represent the hundredth precentile."
   ]
  },
  {
   "cell_type": "code",
   "execution_count": 14,
   "metadata": {},
   "outputs": [],
   "source": [
    "# Change dataset to hundredth percentile instead of tenth precentile.\n",
    "hundredth_percentile_data = get_labeled_data(data, num_precentiles=100)\n",
    "\n",
    "# Split the dataset into a training and a validation set.\n",
    "train_hundredth_precentile = hundredth_percentile_data.sample(frac=TRAIN_VAL_RATIO, random_state=42)\n",
    "val_hundredth_precentile = hundredth_percentile_data.drop(train_data.index)"
   ]
  },
  {
   "cell_type": "code",
   "execution_count": 15,
   "metadata": {},
   "outputs": [
    {
     "name": "stdout",
     "output_type": "stream",
     "text": [
      "[epoch: 1/150] Total Loss: 4.256832452615102\n",
      "[epoch: 21/150] Total Loss: 0.9712860590881771\n",
      "[epoch: 41/150] Total Loss: 0.7745967502395312\n",
      "[epoch: 61/150] Total Loss: 0.6743948052326838\n",
      "[epoch: 81/150] Total Loss: 0.6577784018384085\n",
      "[epoch: 101/150] Total Loss: 0.5942750328116947\n",
      "[epoch: 121/150] Total Loss: 0.5255563501682546\n",
      "[epoch: 141/150] Total Loss: 0.4844900245467822\n",
      "[epoch: 150/150] Total Loss: 0.4774617311027315\n",
      "\n",
      "REDUCED LEARNING RATE TO 0.0001\n",
      "\n",
      "[epoch: 1/75] Total Loss: 0.4162844518820445\n",
      "[epoch: 21/75] Total Loss: 0.36305952444672585\n",
      "[epoch: 41/75] Total Loss: 0.35241012275218964\n",
      "[epoch: 61/75] Total Loss: 0.3462689245740573\n",
      "[epoch: 75/75] Total Loss: 0.3425384440355831\n",
      "Accuracy: 1.13%\n",
      "Accuracy: 1.14%\n"
     ]
    }
   ],
   "source": [
    "# Train network with `Y` values.\n",
    "\n",
    "# Create the datasets.\n",
    "train_dataset100_with_Y = DiabetesDataset(train_hundredth_precentile, transform=transform)\n",
    "val_dataset100_with_Y = DiabetesDataset(val_hundredth_precentile, transform=transform)\n",
    "\n",
    "# Create the dataloaders.\n",
    "train_loader100_with_Y = DataLoader(train_dataset100_with_Y, batch_size=BATCH_SIZE, shuffle=True)\n",
    "val_loader100_with_Y = DataLoader(val_dataset100_with_Y, batch_size=BATCH_SIZE, shuffle=False)\n",
    "\n",
    "# Create the neural network.\n",
    "classifer100_with_Y = DiabetesPrecentileClassifer(input_size=11, num_classes=100)\n",
    "\n",
    "# Train the network.\n",
    "train(classifer100_with_Y, train_loader_with_Y, num_epochs=150, lr=0.001,\n",
    "      print_cost=True, print_stride=20)\n",
    "print(\"\\nREDUCED LEARNING RATE TO 0.0001\\n\")\n",
    "train(classifer100_with_Y, train_loader_with_Y, num_epochs=75, lr=0.0001,\n",
    "      print_cost=True, print_stride=20);\n",
    "\n",
    "# Evaluate the network.\n",
    "print(f\"Accuracy: {evaluate(classifer100_with_Y, train_loader100_with_Y):.2%}\")\n",
    "print(f\"Accuracy: {evaluate(classifer100_with_Y, val_loader100_with_Y):.2%}\")"
   ]
  },
  {
   "cell_type": "code",
   "execution_count": 16,
   "metadata": {},
   "outputs": [
    {
     "name": "stdout",
     "output_type": "stream",
     "text": [
      "[epoch: 1/150] Total Loss: 5.294299369388156\n",
      "[epoch: 21/150] Total Loss: 3.971191370487213\n",
      "[epoch: 41/150] Total Loss: 3.3947664499282837\n",
      "[epoch: 61/150] Total Loss: 2.990166578027937\n",
      "[epoch: 81/150] Total Loss: 2.607801759905285\n",
      "[epoch: 101/150] Total Loss: 2.3179384979936812\n",
      "[epoch: 121/150] Total Loss: 2.083756031592687\n",
      "[epoch: 141/150] Total Loss: 1.8778610024187299\n",
      "[epoch: 150/150] Total Loss: 1.7741478039158716\n",
      "\n",
      "REDUCED LEARNING RATE TO 0.0001\n",
      "\n",
      "[epoch: 1/75] Total Loss: 1.6678357481956483\n",
      "[epoch: 21/75] Total Loss: 1.530374107758204\n",
      "[epoch: 41/75] Total Loss: 1.5014174080557294\n",
      "[epoch: 61/75] Total Loss: 1.4773450715674294\n",
      "[epoch: 75/75] Total Loss: 1.4577238642507129\n",
      "Accuracy: 55.93%\n",
      "Accuracy: 2.27%\n"
     ]
    }
   ],
   "source": [
    "# Train network without `Y` values.\n",
    "\n",
    "# Create the datasets.\n",
    "train_dataset100_without_Y = DiabetesDataset(train_hundredth_precentile, transform=transform, drop_Y=True)\n",
    "val_dataset100_without_Y = DiabetesDataset(val_hundredth_precentile, transform=transform, drop_Y=True)\n",
    "\n",
    "# Create the dataloaders.\n",
    "train_loader100_without_Y = DataLoader(train_dataset100_without_Y, batch_size=BATCH_SIZE, shuffle=True)\n",
    "val_loader100_without_Y = DataLoader(val_dataset100_without_Y, batch_size=BATCH_SIZE, shuffle=False)\n",
    "\n",
    "# Create the neural network.\n",
    "classifer100_without_Y = DiabetesPrecentileClassifer(input_size=10, num_classes=100)\n",
    "\n",
    "# Train the network.\n",
    "train(classifer100_without_Y, train_loader100_without_Y, num_epochs=150, lr=0.001,\n",
    "      print_cost=True, print_stride=20)\n",
    "print(\"\\nREDUCED LEARNING RATE TO 0.0001\\n\")\n",
    "train(classifer100_without_Y, train_loader100_without_Y, num_epochs=75, lr=0.0001,\n",
    "      print_cost=True, print_stride=20)\n",
    "\n",
    "# Evaluate the network.\n",
    "print(f\"Accuracy: {evaluate(classifer100_without_Y, train_loader100_without_Y):.2%}\")\n",
    "print(f\"Accuracy: {evaluate(classifer100_without_Y, val_loader100_without_Y):.2%}\")"
   ]
  },
  {
   "cell_type": "markdown",
   "metadata": {},
   "source": [
    "We experience much worse results, that is because the dataset is too small (around $4$ instances of each class) to successfully learn how to predict a class out of $100$ classes. It is preferable to use the tenth precentile as classes instead of the hundredth precentile, since the added accuracy in the `Y` prediction gained from the $100$ classes prediction is a lesser of a gain than the added overall accuracy of the $10$ classes prediction network."
   ]
  },
  {
   "cell_type": "code",
   "execution_count": 17,
   "metadata": {},
   "outputs": [],
   "source": [
    "# 5 POINTS BONNUS\n",
    "# Train a regression network on the dataset.\n",
    "# First, redfine the dataset to be a regression dataset.\n",
    "class DiabetesRegressionDataset(Dataset):\n",
    "    def __init__(self, data: pd.DataFrame, transform: transforms.Compose | None = None):\n",
    "        self.data = data\n",
    "        self.transform = transform\n",
    "\n",
    "    def __len__(self):\n",
    "        return len(self.data)\n",
    "\n",
    "    def __getitem__(self, index):\n",
    "        row = self.data.iloc[index]\n",
    "        x = row.drop('Y')\n",
    "        if self.transform:\n",
    "            x = self.transform(x)\n",
    "        y = row['Y']\n",
    "        y = torch.tensor(y, dtype=torch.float32)\n",
    "        return x, y\n",
    "\n",
    "# Create a specific network architecture for regression.\n",
    "class DiabetesRegressionModel(nn.Module):\n",
    "    def __init__(self):\n",
    "        super(DiabetesRegressionModel, self).__init__()\n",
    "        self.fc1 = nn.Linear(10, 64)\n",
    "        self.fc2 = nn.Linear(64, 128)\n",
    "        self.fc3 = nn.Linear(128, 128)\n",
    "        self.fc4 = nn.Linear(128, 1)\n",
    "\n",
    "    def forward(self, x):\n",
    "        x = F.leaky_relu(self.fc1(x))\n",
    "        x = F.leaky_relu(self.fc2(x))\n",
    "        x = F.leaky_relu(self.fc3(x))\n",
    "        x = self.fc4(x)\n",
    "        \n",
    "        return x"
   ]
  },
  {
   "cell_type": "code",
   "execution_count": 18,
   "metadata": {},
   "outputs": [
    {
     "name": "stdout",
     "output_type": "stream",
     "text": [
      "Using CUDA for traininig.\n",
      "[epoch: 1/300] Total Loss: 23835.965689338234\n",
      "[epoch: 21/300] Total Loss: 3885.1588074448528\n",
      "[epoch: 41/300] Total Loss: 2980.1581778492646\n",
      "[epoch: 61/300] Total Loss: 2810.620428538603\n",
      "[epoch: 81/300] Total Loss: 2630.194403147978\n",
      "[epoch: 101/300] Total Loss: 2566.6053567325366\n",
      "[epoch: 121/300] Total Loss: 2558.6229348575366\n",
      "[epoch: 141/300] Total Loss: 2655.883910845588\n",
      "[epoch: 161/300] Total Loss: 2558.017380514706\n",
      "[epoch: 181/300] Total Loss: 2517.2215234375\n",
      "[epoch: 201/300] Total Loss: 2702.212099609375\n",
      "[epoch: 221/300] Total Loss: 2447.6083197380513\n",
      "[epoch: 241/300] Total Loss: 2310.2006071920955\n",
      "[epoch: 261/300] Total Loss: 2894.580680721507\n",
      "[epoch: 281/300] Total Loss: 2394.691056985294\n",
      "[epoch: 300/300] Total Loss: 2214.4571099494487\n",
      "\n",
      "REDUCED LEARNING RATE TO 0.0001\n",
      "\n",
      "Using CUDA for traininig.\n",
      "[epoch: 1/150] Total Loss: 2227.5455859375\n",
      "[epoch: 21/150] Total Loss: 2164.28366785386\n",
      "[epoch: 41/150] Total Loss: 2154.6327188648897\n",
      "[epoch: 61/150] Total Loss: 2149.1470846737134\n",
      "[epoch: 81/150] Total Loss: 2149.2427837775735\n",
      "[epoch: 101/150] Total Loss: 2175.764545611213\n",
      "[epoch: 121/150] Total Loss: 2142.0317578125\n",
      "[epoch: 141/150] Total Loss: 2146.3154897173713\n",
      "[epoch: 150/150] Total Loss: 2148.1795002297795\n"
     ]
    },
    {
     "data": {
      "image/png": "[encoded data removed]",
      "text/plain": [
       "<Figure size 640x480 with 1 Axes>"
      ]
     },
     "metadata": {},
     "output_type": "display_data"
    }
   ],
   "source": [
    "# Now, train the network the usual way.\n",
    "# We change the output layer to have a single neuron and no activation function.\n",
    "# We also change the loss function to be the mean squared error (MSE).\n",
    "BATCH_SIZE = 85\n",
    "\n",
    "# Split the dataset into a training and a validation set.\n",
    "train_reg_data = data.sample(frac=TRAIN_VAL_RATIO, random_state=42)\n",
    "val_reg_data = data.drop(train_data.index)\n",
    "\n",
    "# Create the datasets.\n",
    "train_dataset_regression = DiabetesRegressionDataset(train_reg_data, transform=transform)\n",
    "val_dataset_regression = DiabetesRegressionDataset(val_reg_data, transform=transform)\n",
    "\n",
    "# Create the dataloaders.\n",
    "train_loader_regression = DataLoader(train_dataset_regression, batch_size=BATCH_SIZE, shuffle=True)\n",
    "val_loader_regression = DataLoader(val_dataset_regression, batch_size=BATCH_SIZE, shuffle=False)\n",
    "\n",
    "# Create the neural network.\n",
    "classifer_regression = DiabetesRegressionModel()\n",
    "\n",
    "# Train the network.\n",
    "costs1 = train(classifer_regression, train_loader_regression, num_epochs=300, lr=0.001, wd=0.001,\n",
    "               loss_func='MSE', try_cuda=True, print_cost=True, print_stride=20)\n",
    "print(\"\\nREDUCED LEARNING RATE TO 0.0001\\n\")\n",
    "costs2 = train(classifer_regression, train_loader_regression, num_epochs=150, lr=0.0001, wd=0.001,\n",
    "               loss_func='MSE', try_cuda=True, print_cost=True, print_stride=20)\n",
    "\n",
    "# Evaluate the network.\n",
    "regression_costs = np.array(costs1 + costs2)\n",
    "\n",
    "plt.plot(regression_costs)\n",
    "plt.xlabel('Epoch')\n",
    "plt.ylabel('MSE')\n",
    "plt.title('Mean Squared Error')\n",
    "plt.show()"
   ]
  },
  {
   "cell_type": "code",
   "execution_count": 19,
   "metadata": {},
   "outputs": [
    {
     "name": "stdout",
     "output_type": "stream",
     "text": [
      "Train MSE: 2569.23\n",
      "Validation MSE: 3297.98\n"
     ]
    }
   ],
   "source": [
    "# Evaluate the network.\n",
    "X_train : np.ndarray = train_reg_data.drop('Y', axis=1).values\n",
    "y_train : np.ndarray = train_reg_data['Y'].values  # type: ignore\n",
    "X_val : np.ndarray = val_reg_data.drop('Y', axis=1).values\n",
    "y_val : np.ndarray = val_reg_data['Y'].values  # type: ignore\n",
    "\n",
    "with torch.no_grad():\n",
    "    classifer_regression.cpu().eval()\n",
    "    y_hat_train = classifer_regression(torch.from_numpy(X_train).float()).squeeze()\n",
    "    y_hat_val = classifer_regression(torch.from_numpy(X_val).float()).squeeze()\n",
    "\n",
    "train_mse = F.mse_loss(y_hat_train, torch.from_numpy(y_train)).item()\n",
    "val_mse = F.mse_loss(y_hat_val, torch.from_numpy(y_val)).item()\n",
    "\n",
    "print(f\"Train MSE: {train_mse:.2f}\")\n",
    "print(f\"Validation MSE: {val_mse:.2f}\")"
   ]
  },
  {
   "cell_type": "code",
   "execution_count": 20,
   "metadata": {},
   "outputs": [
    {
     "name": "stdout",
     "output_type": "stream",
     "text": [
      "[TRAIN] Mean Squared Error: 2921.68\n",
      "[VAL] Mean Squared Error: 3499.15\n"
     ]
    },
    {
     "data": {
      "application/vnd.microsoft.datawrangler.viewer.v0+json": {
       "columns": [
        {
         "name": "index",
         "rawType": "int64",
         "type": "integer"
        },
        {
         "name": "True",
         "rawType": "int64",
         "type": "integer"
        },
        {
         "name": "Predicted",
         "rawType": "float64",
         "type": "float"
        }
       ],
       "conversionMethod": "pd.DataFrame",
       "ref": "904c7b75-3cac-4310-a4dc-6ba2ac7d337d",
       "rows": [
        [
         "0",
         "219",
         "152.1055117370579"
        ],
        [
         "1",
         "70",
         "184.81295951662457"
        ],
        [
         "2",
         "202",
         "146.86861006773887"
        ],
        [
         "3",
         "230",
         "289.45795232018463"
        ],
        [
         "4",
         "111",
         "121.51693290394564"
        ],
        [
         "5",
         "84",
         "97.0974430770124"
        ],
        [
         "6",
         "242",
         "242.91734252062042"
        ],
        [
         "7",
         "272",
         "196.6590510045187"
        ],
        [
         "8",
         "94",
         "92.47403734558635"
        ],
        [
         "9",
         "96",
         "115.8844158596567"
        ]
       ],
       "shape": {
        "columns": 2,
        "rows": 10
       }
      },
      "text/html": [
       "<div>\n",
       "<style scoped>\n",
       "    .dataframe tbody tr th:only-of-type {\n",
       "        vertical-align: middle;\n",
       "    }\n",
       "\n",
       "    .dataframe tbody tr th {\n",
       "        vertical-align: top;\n",
       "    }\n",
       "\n",
       "    .dataframe thead th {\n",
       "        text-align: right;\n",
       "    }\n",
       "</style>\n",
       "<table border=\"1\" class=\"dataframe\">\n",
       "  <thead>\n",
       "    <tr style=\"text-align: right;\">\n",
       "      <th></th>\n",
       "      <th>True</th>\n",
       "      <th>Predicted</th>\n",
       "    </tr>\n",
       "  </thead>\n",
       "  <tbody>\n",
       "    <tr>\n",
       "      <th>0</th>\n",
       "      <td>219</td>\n",
       "      <td>152.105512</td>\n",
       "    </tr>\n",
       "    <tr>\n",
       "      <th>1</th>\n",
       "      <td>70</td>\n",
       "      <td>184.812960</td>\n",
       "    </tr>\n",
       "    <tr>\n",
       "      <th>2</th>\n",
       "      <td>202</td>\n",
       "      <td>146.868610</td>\n",
       "    </tr>\n",
       "    <tr>\n",
       "      <th>3</th>\n",
       "      <td>230</td>\n",
       "      <td>289.457952</td>\n",
       "    </tr>\n",
       "    <tr>\n",
       "      <th>4</th>\n",
       "      <td>111</td>\n",
       "      <td>121.516933</td>\n",
       "    </tr>\n",
       "    <tr>\n",
       "      <th>5</th>\n",
       "      <td>84</td>\n",
       "      <td>97.097443</td>\n",
       "    </tr>\n",
       "    <tr>\n",
       "      <th>6</th>\n",
       "      <td>242</td>\n",
       "      <td>242.917343</td>\n",
       "    </tr>\n",
       "    <tr>\n",
       "      <th>7</th>\n",
       "      <td>272</td>\n",
       "      <td>196.659051</td>\n",
       "    </tr>\n",
       "    <tr>\n",
       "      <th>8</th>\n",
       "      <td>94</td>\n",
       "      <td>92.474037</td>\n",
       "    </tr>\n",
       "    <tr>\n",
       "      <th>9</th>\n",
       "      <td>96</td>\n",
       "      <td>115.884416</td>\n",
       "    </tr>\n",
       "  </tbody>\n",
       "</table>\n",
       "</div>"
      ],
      "text/plain": [
       "   True   Predicted\n",
       "0   219  152.105512\n",
       "1    70  184.812960\n",
       "2   202  146.868610\n",
       "3   230  289.457952\n",
       "4   111  121.516933\n",
       "5    84   97.097443\n",
       "6   242  242.917343\n",
       "7   272  196.659051\n",
       "8    94   92.474037\n",
       "9    96  115.884416"
      ]
     },
     "execution_count": 20,
     "metadata": {},
     "output_type": "execute_result"
    }
   ],
   "source": [
    "# Comparison with normal linear regression.\n",
    "X : np.ndarray = train_reg_data.drop('Y', axis=1).values\n",
    "y : np.ndarray = train_reg_data['Y'].values  # type: ignore\n",
    "\n",
    "w = np.linalg.pinv(X.T @ X) @ X.T @ y\n",
    "\n",
    "y_hat = X @ w\n",
    "\n",
    "train_mse = np.mean((y - y_hat) ** 2)\n",
    "val_mse = np.mean((y_val - X_val @ w) ** 2)  # type: ignore\n",
    "\n",
    "print(f\"[TRAIN] Mean Squared Error: {train_mse:.2f}\")\n",
    "print(f\"[VAL] Mean Squared Error: {val_mse:.2f}\")\n",
    "\n",
    "pd.DataFrame({'True': y, 'Predicted': y_hat}).head(10)"
   ]
  }
 ],
 "metadata": {
  "kernelspec": {
   "display_name": "Python 3",
   "language": "python",
   "name": "python3"
  },
  "language_info": {
   "codemirror_mode": {
    "name": "ipython",
    "version": 3
   },
   "file_extension": ".py",
   "mimetype": "text/x-python",
   "name": "python",
   "nbconvert_exporter": "python",
   "pygments_lexer": "ipython3",
   "version": "3.11.6"
  }
 },
 "nbformat": 4,
 "nbformat_minor": 2
}
