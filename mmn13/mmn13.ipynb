{
 "cells": [
  {
   "cell_type": "markdown",
   "metadata": {},
   "source": [
    "# Teacher's Assignment No. 13"
   ]
  },
  {
   "cell_type": "markdown",
   "metadata": {},
   "source": [
    "***Author:*** *Ofir Paz* $\\qquad$ ***Version:*** *20.04.2024* $\\qquad$ ***Course:*** *22961 - Deep Learning*\n",
    "\n",
    "Welcome to the third assignment of the course *Deep Learning*. \\\n",
    "In this assignment we will explore Pytorch's DataLoader, and use it to train a neural network for classification purposes. "
   ]
  },
  {
   "cell_type": "markdown",
   "metadata": {},
   "source": [
    "## Imports"
   ]
  },
  {
   "cell_type": "markdown",
   "metadata": {},
   "source": [
    "First, we will import the required packages for this assignment.\n",
    "- [pytorch](https://pytorch.org/) - One of the most fundemental and famous tensor handling library.\n",
    "- [numpy](https://numpy.org) - The fundamental package for scientific computing with Python.\n",
    "- [pandas](https://pandas.pydata.org) - Library to handle data in Python.\n",
    "- [matplotlib](https://matplotlib.org) - Library to plot graphs in Python."
   ]
  },
  {
   "cell_type": "code",
   "execution_count": 1,
   "metadata": {},
   "outputs": [],
   "source": [
    "import torch  # pytorch.\n",
    "import torch.nn as nn  # neural network module.\n",
    "import torch.optim as optim  # optimization module.\n",
    "import torch.nn.functional as F  # functional module.\n",
    "import numpy as np  # numpy.\n",
    "import torchvision.transforms as transforms  # image transformation module.\n",
    "from torch.utils.data import DataLoader, Dataset  # data loader and dataset base class.\n",
    "from torchmetrics import Accuracy  # accuracy metric.\n",
    "import pandas as pd  # handling data.\n",
    "import matplotlib.pyplot as plt  # plotting.\n",
    "from typing import Literal  # type hinting."
   ]
  },
  {
   "cell_type": "markdown",
   "metadata": {},
   "source": [
    "## Diabetes Dataset"
   ]
  },
  {
   "cell_type": "markdown",
   "metadata": {},
   "source": [
    "In this section, we will handle the pre processing of the provided *Diabetes dataset*. The Diabetes dataset is a csv file containing 442 different records for different patients holding information about the patient, and an additional column (Y) with the Diabetes' progression rate."
   ]
  },
  {
   "cell_type": "code",
   "execution_count": 2,
   "metadata": {},
   "outputs": [
    {
     "data": {
      "text/html": [
       "<div>\n",
       "<style scoped>\n",
       "    .dataframe tbody tr th:only-of-type {\n",
       "        vertical-align: middle;\n",
       "    }\n",
       "\n",
       "    .dataframe tbody tr th {\n",
       "        vertical-align: top;\n",
       "    }\n",
       "\n",
       "    .dataframe thead th {\n",
       "        text-align: right;\n",
       "    }\n",
       "</style>\n",
       "<table border=\"1\" class=\"dataframe\">\n",
       "  <thead>\n",
       "    <tr style=\"text-align: right;\">\n",
       "      <th></th>\n",
       "      <th>AGE</th>\n",
       "      <th>SEX</th>\n",
       "      <th>BMI</th>\n",
       "      <th>BP</th>\n",
       "      <th>S1</th>\n",
       "      <th>S2</th>\n",
       "      <th>S3</th>\n",
       "      <th>S4</th>\n",
       "      <th>S5</th>\n",
       "      <th>S6</th>\n",
       "      <th>Y</th>\n",
       "    </tr>\n",
       "  </thead>\n",
       "  <tbody>\n",
       "    <tr>\n",
       "      <th>0</th>\n",
       "      <td>59</td>\n",
       "      <td>2</td>\n",
       "      <td>32.1</td>\n",
       "      <td>101.0</td>\n",
       "      <td>157</td>\n",
       "      <td>93.2</td>\n",
       "      <td>38.0</td>\n",
       "      <td>4.0</td>\n",
       "      <td>4.8598</td>\n",
       "      <td>87</td>\n",
       "      <td>151</td>\n",
       "    </tr>\n",
       "    <tr>\n",
       "      <th>1</th>\n",
       "      <td>48</td>\n",
       "      <td>1</td>\n",
       "      <td>21.6</td>\n",
       "      <td>87.0</td>\n",
       "      <td>183</td>\n",
       "      <td>103.2</td>\n",
       "      <td>70.0</td>\n",
       "      <td>3.0</td>\n",
       "      <td>3.8918</td>\n",
       "      <td>69</td>\n",
       "      <td>75</td>\n",
       "    </tr>\n",
       "    <tr>\n",
       "      <th>2</th>\n",
       "      <td>72</td>\n",
       "      <td>2</td>\n",
       "      <td>30.5</td>\n",
       "      <td>93.0</td>\n",
       "      <td>156</td>\n",
       "      <td>93.6</td>\n",
       "      <td>41.0</td>\n",
       "      <td>4.0</td>\n",
       "      <td>4.6728</td>\n",
       "      <td>85</td>\n",
       "      <td>141</td>\n",
       "    </tr>\n",
       "    <tr>\n",
       "      <th>3</th>\n",
       "      <td>24</td>\n",
       "      <td>1</td>\n",
       "      <td>25.3</td>\n",
       "      <td>84.0</td>\n",
       "      <td>198</td>\n",
       "      <td>131.4</td>\n",
       "      <td>40.0</td>\n",
       "      <td>5.0</td>\n",
       "      <td>4.8903</td>\n",
       "      <td>89</td>\n",
       "      <td>206</td>\n",
       "    </tr>\n",
       "    <tr>\n",
       "      <th>4</th>\n",
       "      <td>50</td>\n",
       "      <td>1</td>\n",
       "      <td>23.0</td>\n",
       "      <td>101.0</td>\n",
       "      <td>192</td>\n",
       "      <td>125.4</td>\n",
       "      <td>52.0</td>\n",
       "      <td>4.0</td>\n",
       "      <td>4.2905</td>\n",
       "      <td>80</td>\n",
       "      <td>135</td>\n",
       "    </tr>\n",
       "  </tbody>\n",
       "</table>\n",
       "</div>"
      ],
      "text/plain": [
       "   AGE  SEX   BMI     BP   S1     S2    S3   S4      S5  S6    Y\n",
       "0   59    2  32.1  101.0  157   93.2  38.0  4.0  4.8598  87  151\n",
       "1   48    1  21.6   87.0  183  103.2  70.0  3.0  3.8918  69   75\n",
       "2   72    2  30.5   93.0  156   93.6  41.0  4.0  4.6728  85  141\n",
       "3   24    1  25.3   84.0  198  131.4  40.0  5.0  4.8903  89  206\n",
       "4   50    1  23.0  101.0  192  125.4  52.0  4.0  4.2905  80  135"
      ]
     },
     "execution_count": 2,
     "metadata": {},
     "output_type": "execute_result"
    }
   ],
   "source": [
    "# Load the dataset with pandas.\n",
    "data = pd.read_csv('diabetes.csv', sep='\\t')\n",
    "\n",
    "# Display the first 5 rows of the dataset.\n",
    "data.head()"
   ]
  },
  {
   "cell_type": "markdown",
   "metadata": {},
   "source": [
    "We would like to divide the dataset to $10$ classes which represent the tenth precentile of the value of $Y$."
   ]
  },
  {
   "cell_type": "code",
   "execution_count": 3,
   "metadata": {},
   "outputs": [
    {
     "data": {
      "text/html": [
       "<div>\n",
       "<style scoped>\n",
       "    .dataframe tbody tr th:only-of-type {\n",
       "        vertical-align: middle;\n",
       "    }\n",
       "\n",
       "    .dataframe tbody tr th {\n",
       "        vertical-align: top;\n",
       "    }\n",
       "\n",
       "    .dataframe thead th {\n",
       "        text-align: right;\n",
       "    }\n",
       "</style>\n",
       "<table border=\"1\" class=\"dataframe\">\n",
       "  <thead>\n",
       "    <tr style=\"text-align: right;\">\n",
       "      <th></th>\n",
       "      <th>AGE</th>\n",
       "      <th>SEX</th>\n",
       "      <th>BMI</th>\n",
       "      <th>BP</th>\n",
       "      <th>S1</th>\n",
       "      <th>S2</th>\n",
       "      <th>S3</th>\n",
       "      <th>S4</th>\n",
       "      <th>S5</th>\n",
       "      <th>S6</th>\n",
       "      <th>Y</th>\n",
       "      <th>Class</th>\n",
       "    </tr>\n",
       "  </thead>\n",
       "  <tbody>\n",
       "    <tr>\n",
       "      <th>0</th>\n",
       "      <td>59</td>\n",
       "      <td>2</td>\n",
       "      <td>32.1</td>\n",
       "      <td>101.0</td>\n",
       "      <td>157</td>\n",
       "      <td>93.2</td>\n",
       "      <td>38.0</td>\n",
       "      <td>4.0</td>\n",
       "      <td>4.8598</td>\n",
       "      <td>87</td>\n",
       "      <td>151</td>\n",
       "      <td>5.0</td>\n",
       "    </tr>\n",
       "    <tr>\n",
       "      <th>1</th>\n",
       "      <td>48</td>\n",
       "      <td>1</td>\n",
       "      <td>21.6</td>\n",
       "      <td>87.0</td>\n",
       "      <td>183</td>\n",
       "      <td>103.2</td>\n",
       "      <td>70.0</td>\n",
       "      <td>3.0</td>\n",
       "      <td>3.8918</td>\n",
       "      <td>69</td>\n",
       "      <td>75</td>\n",
       "      <td>1.0</td>\n",
       "    </tr>\n",
       "    <tr>\n",
       "      <th>2</th>\n",
       "      <td>72</td>\n",
       "      <td>2</td>\n",
       "      <td>30.5</td>\n",
       "      <td>93.0</td>\n",
       "      <td>156</td>\n",
       "      <td>93.6</td>\n",
       "      <td>41.0</td>\n",
       "      <td>4.0</td>\n",
       "      <td>4.6728</td>\n",
       "      <td>85</td>\n",
       "      <td>141</td>\n",
       "      <td>5.0</td>\n",
       "    </tr>\n",
       "    <tr>\n",
       "      <th>3</th>\n",
       "      <td>24</td>\n",
       "      <td>1</td>\n",
       "      <td>25.3</td>\n",
       "      <td>84.0</td>\n",
       "      <td>198</td>\n",
       "      <td>131.4</td>\n",
       "      <td>40.0</td>\n",
       "      <td>5.0</td>\n",
       "      <td>4.8903</td>\n",
       "      <td>89</td>\n",
       "      <td>206</td>\n",
       "      <td>7.0</td>\n",
       "    </tr>\n",
       "    <tr>\n",
       "      <th>4</th>\n",
       "      <td>50</td>\n",
       "      <td>1</td>\n",
       "      <td>23.0</td>\n",
       "      <td>101.0</td>\n",
       "      <td>192</td>\n",
       "      <td>125.4</td>\n",
       "      <td>52.0</td>\n",
       "      <td>4.0</td>\n",
       "      <td>4.2905</td>\n",
       "      <td>80</td>\n",
       "      <td>135</td>\n",
       "      <td>4.0</td>\n",
       "    </tr>\n",
       "  </tbody>\n",
       "</table>\n",
       "</div>"
      ],
      "text/plain": [
       "   AGE  SEX   BMI     BP   S1     S2    S3   S4      S5  S6    Y  Class\n",
       "0   59    2  32.1  101.0  157   93.2  38.0  4.0  4.8598  87  151    5.0\n",
       "1   48    1  21.6   87.0  183  103.2  70.0  3.0  3.8918  69   75    1.0\n",
       "2   72    2  30.5   93.0  156   93.6  41.0  4.0  4.6728  85  141    5.0\n",
       "3   24    1  25.3   84.0  198  131.4  40.0  5.0  4.8903  89  206    7.0\n",
       "4   50    1  23.0  101.0  192  125.4  52.0  4.0  4.2905  80  135    4.0"
      ]
     },
     "execution_count": 3,
     "metadata": {},
     "output_type": "execute_result"
    }
   ],
   "source": [
    "def get_labeled_data(data: pd.DataFrame, num_precentiles: int = 10) -> pd.DataFrame:\n",
    "    # Copy the original dataset.\n",
    "    labeled_data = data.copy()\n",
    "\n",
    "    # Create the new column `Class` and initialize it with NaN.\n",
    "    labeled_data['Class'] = np.NaN\n",
    "\n",
    "    # Iterate over the percentiles.\n",
    "    for klass in np.arange(num_precentiles):\n",
    "        # Calculate the k-th percentile of the column 'Y'.\n",
    "        percentile = data['Y'].quantile(klass / num_precentiles)\n",
    "\n",
    "        # Label the matching class for all rows where \n",
    "        #  the value of 'Y' is greater or equal to the percentile.\n",
    "        labeled_data.loc[(data['Y'] >= percentile).values, 'Class'] = klass\n",
    "\n",
    "    return labeled_data\n",
    "\n",
    "tenth_percentile_data = get_labeled_data(data, num_precentiles=10)\n",
    "\n",
    "tenth_percentile_data.head()"
   ]
  },
  {
   "cell_type": "markdown",
   "metadata": {},
   "source": [
    "Now we will create the wraper pytorch dataset to hold the labeled dataset."
   ]
  },
  {
   "cell_type": "code",
   "execution_count": 4,
   "metadata": {},
   "outputs": [],
   "source": [
    "class DiabetesDataset(Dataset):\n",
    "    def __init__(self, data: pd.DataFrame, transform: transforms.Compose | None = None, \n",
    "                 drop_Y: bool = False):\n",
    "        self.data = data\n",
    "        self.transform = transform\n",
    "        self.drop_Y = drop_Y\n",
    "\n",
    "    def __len__(self):\n",
    "        return len(self.data)\n",
    "\n",
    "    def __getitem__(self, index):\n",
    "        row = self.data.iloc[index]\n",
    "        x = row.drop('Class')\n",
    "        if self.drop_Y:\n",
    "            x = x.drop('Y')\n",
    "        if self.transform:\n",
    "            x = self.transform(x)\n",
    "        y = row['Class']\n",
    "        y = torch.tensor(y, dtype=torch.long)\n",
    "        return x, y"
   ]
  },
  {
   "cell_type": "markdown",
   "metadata": {},
   "source": [
    "Here we use pytorch's dataloader to create a data loader for the dataset and display a single mini-batch of data. "
   ]
  },
  {
   "cell_type": "code",
   "execution_count": 5,
   "metadata": {},
   "outputs": [],
   "source": [
    "BATCH_SIZE = 10\n",
    "TRAIN_VAL_RATIO = 0.8\n",
    "\n",
    "transform = transforms.Compose([\n",
    "    transforms.Lambda(lambda x: torch.from_numpy(x.values.astype(np.float32))),\n",
    "    # transforms.Lambda(lambda x: (x - x.mean()) / x.std()),\n",
    "])\n",
    "\n",
    "# Split the dataset into a training and a validation set.\n",
    "train_data = tenth_percentile_data.sample(frac=TRAIN_VAL_RATIO, random_state=42)\n",
    "val_data = tenth_percentile_data.drop(train_data.index)\n",
    "\n",
    "# Create the datasets.\n",
    "train_dataset_with_Y = DiabetesDataset(train_data, transform=transform)\n",
    "val_dataset_with_Y = DiabetesDataset(val_data, transform=transform)\n",
    "\n",
    "# Create the dataloaders.\n",
    "train_loader_with_Y = DataLoader(train_dataset_with_Y, batch_size=BATCH_SIZE, shuffle=True)\n",
    "val_loader_with_Y = DataLoader(val_dataset_with_Y, batch_size=BATCH_SIZE, shuffle=False)"
   ]
  },
  {
   "cell_type": "code",
   "execution_count": 6,
   "metadata": {},
   "outputs": [
    {
     "name": "stdout",
     "output_type": "stream",
     "text": [
      "torch.Size([10, 11]) tensor([[ 55.0000,   1.0000,  23.0000,  94.6700, 190.0000, 137.6000,  38.0000,\n",
      "           5.0000,   4.2767, 106.0000, 146.0000],\n",
      "        [ 53.0000,   1.0000,  28.6000,  88.0000, 171.0000,  98.8000,  41.0000,\n",
      "           4.0000,   5.0499,  99.0000, 265.0000],\n",
      "        [ 26.0000,   2.0000,  30.3000,  89.0000, 218.0000, 152.2000,  31.0000,\n",
      "           7.0000,   5.1591,  82.0000, 137.0000],\n",
      "        [ 46.0000,   2.0000,  23.8000,  97.0000, 224.0000, 139.2000,  42.0000,\n",
      "           5.0000,   5.3660,  81.0000, 209.0000],\n",
      "        [ 52.0000,   1.0000,  24.5000,  90.0000, 198.0000, 129.0000,  29.0000,\n",
      "           7.0000,   5.2983,  86.0000, 233.0000],\n",
      "        [ 54.0000,   2.0000,  27.3000, 100.0000, 200.0000, 144.0000,  33.0000,\n",
      "           6.0000,   4.7449,  76.0000, 235.0000],\n",
      "        [ 71.0000,   2.0000,  27.0000,  93.3300, 269.0000, 190.2000,  41.0000,\n",
      "           6.5600,   5.2417,  93.0000, 131.0000],\n",
      "        [ 49.0000,   1.0000,  25.6000,  76.0000, 161.0000,  99.8000,  51.0000,\n",
      "           3.0000,   3.9318,  78.0000,  31.0000],\n",
      "        [ 53.0000,   1.0000,  24.1000, 105.0000, 184.0000, 113.4000,  46.0000,\n",
      "           4.0000,   4.8122,  95.0000,  66.0000],\n",
      "        [ 60.0000,   2.0000,  28.2000, 112.0000, 185.0000, 113.8000,  42.0000,\n",
      "           4.0000,   4.9836,  93.0000, 178.0000]])\n",
      "torch.Size([10]) tensor([5, 9, 4, 7, 8, 8, 4, 0, 1, 6])\n"
     ]
    }
   ],
   "source": [
    "# Print a mini-batch.\n",
    "for x, y in train_loader_with_Y:\n",
    "    print(x.shape, x)  # 10 samples with 11 features each.\n",
    "    print(y.shape, y)  # 10 labels.\n",
    "    break"
   ]
  },
  {
   "cell_type": "markdown",
   "metadata": {},
   "source": [
    "## The Neural Network"
   ]
  },
  {
   "cell_type": "markdown",
   "metadata": {},
   "source": [
    "In this section, we will design the architecture for the *Neural Network* (NN) to classify the tenth precentile of the Diabetes' progression, and train it. We will use the data loader defined above and `torch.nn` to create the architecture. Since we have a small dataset with only $11$ features, we will simply create a fully connected NN with a small number of layers and neurons."
   ]
  },
  {
   "cell_type": "code",
   "execution_count": 7,
   "metadata": {},
   "outputs": [],
   "source": [
    "class DiabetesPrecentileClassifer(nn.Module):\n",
    "    def __init__(self, input_size: int = 11, num_classes: int = 10):\n",
    "        super(DiabetesPrecentileClassifer, self).__init__()\n",
    "        self.fc1 = nn.Linear(input_size, 15)\n",
    "        self.fc2 = nn.Linear(15, 30)\n",
    "        self.fc3 = nn.Linear(30, 30)\n",
    "        self.fc4 = nn.Linear(30, num_classes)\n",
    "\n",
    "    def forward(self, x):\n",
    "        x = F.relu(self.fc1(x))\n",
    "        x = F.relu(self.fc2(x))\n",
    "        x = F.relu(self.fc3(x))\n",
    "        x = self.fc4(x)\n",
    "        return x"
   ]
  },
  {
   "cell_type": "markdown",
   "metadata": {},
   "source": [
    "The next code block introduces the train loop function. The train loop iterates over the dataloader and uses the optimizer and criterion to update the NN weights in the gradient decent algorithm."
   ]
  },
  {
   "cell_type": "code",
   "execution_count": 8,
   "metadata": {},
   "outputs": [],
   "source": [
    "def train(model: nn.Module, data_loader: DataLoader, num_epochs: int = 30, lr: float = 0.001, \n",
    "          wd: float = 0., loss_func: Literal['log', 'MSE'] = 'log', try_cuda: bool = False,\n",
    "          print_cost: bool = False, print_stride: int = 1) -> list[float]:\n",
    "    \"\"\"\n",
    "    Train the model.\n",
    "    \n",
    "    :param model: The model to train.\n",
    "    :param data_loader: The data loader.\n",
    "    :param num_epochs: The number of epochs.\n",
    "    :param lr: The learning rate.\n",
    "    :param wd: The weight decay.\n",
    "    :param loss_func: The loss function to use can either be `log` or `MSE`.\n",
    "    :param try_cuda: A flag indicating if the model should be trained on the GPU.\n",
    "    :param print_cost: A flag indicating if the cost should be printed.\n",
    "    :param print_stride: The stride for printing the cost.\n",
    "    :return: The total cost of each epoch.\n",
    "    \"\"\"\n",
    "    \n",
    "    costs: list[float] = []\n",
    "    \n",
    "    use_cuda = try_cuda and torch.cuda.is_available()\n",
    "    if use_cuda:\n",
    "        print(\"Using CUDA for traininig.\")\n",
    "        model = model.cuda()\n",
    "\n",
    "    # Create the optimizer and criterion.\n",
    "    optimizer = optim.Adam(model.parameters(), lr=lr, weight_decay=wd)\n",
    "    criterion = nn.CrossEntropyLoss() if loss_func == 'log' else nn.MSELoss()  # log or MSE.\n",
    "\n",
    "    for epoch in range(num_epochs):\n",
    "        running_loss = 0.\n",
    "        for x, y in data_loader:\n",
    "            if use_cuda:\n",
    "                x, y = x.cuda(), y.cuda()\n",
    "\n",
    "            # zero the parameter gradients\n",
    "            optimizer.zero_grad()\n",
    "\n",
    "            # forward + backward + optimize\n",
    "            y_hat = model(x)\n",
    "\n",
    "            if loss_func == 'MSE':\n",
    "                y = y.float()\n",
    "                y_hat = y_hat.squeeze()\n",
    "            \n",
    "            loss = criterion(y_hat, y)\n",
    "            loss.backward()\n",
    "            optimizer.step()\n",
    "\n",
    "            # Calc loss\n",
    "            lloss = loss.item()\n",
    "            running_loss += lloss * x.size(0)\n",
    "\n",
    "        epoch_loss = running_loss / (len(data_loader) * BATCH_SIZE)\n",
    "        costs.append(epoch_loss)\n",
    "            \n",
    "        if print_cost and (epoch % print_stride == 0 or epoch == num_epochs - 1):\n",
    "            print(f\"\\r[epoch: {epoch+1}/{num_epochs}] Total Loss: {epoch_loss}\")\n",
    "\n",
    "    return costs"
   ]
  },
  {
   "cell_type": "code",
   "execution_count": 9,
   "metadata": {},
   "outputs": [
    {
     "name": "stdout",
     "output_type": "stream",
     "text": [
      "[epoch: 1/150] Total Loss: 2.873996202150981\n",
      "[epoch: 21/150] Total Loss: 0.7551723611023691\n",
      "[epoch: 41/150] Total Loss: 0.6652364141411251\n",
      "[epoch: 61/150] Total Loss: 0.6551922620998488\n",
      "[epoch: 81/150] Total Loss: 0.5652710263927777\n",
      "[epoch: 101/150] Total Loss: 0.5620862090753185\n",
      "[epoch: 121/150] Total Loss: 0.5066907885173957\n",
      "[epoch: 141/150] Total Loss: 0.4674604301651319\n",
      "[epoch: 150/150] Total Loss: 0.5143173951241705\n",
      "\n",
      "REDUCED LEARNING RATE TO 0.0001\n",
      "\n",
      "[epoch: 1/75] Total Loss: 0.4257424954738882\n",
      "[epoch: 21/75] Total Loss: 0.38944191936817435\n",
      "[epoch: 41/75] Total Loss: 0.38571395302812256\n",
      "[epoch: 61/75] Total Loss: 0.38490768290228317\n",
      "[epoch: 75/75] Total Loss: 0.3756044932537609\n"
     ]
    }
   ],
   "source": [
    "# Train the network.\n",
    "classifer_with_Y = DiabetesPrecentileClassifer()\n",
    "\n",
    "train(classifer_with_Y, train_loader_with_Y, num_epochs=150, lr=0.001,\n",
    "      print_cost=True, print_stride=20)\n",
    "print(\"\\nREDUCED LEARNING RATE TO 0.0001\\n\")\n",
    "train(classifer_with_Y, train_loader_with_Y, num_epochs=75, lr=0.0001,\n",
    "      print_cost=True, print_stride=20);"
   ]
  },
  {
   "cell_type": "code",
   "execution_count": 10,
   "metadata": {},
   "outputs": [],
   "source": [
    "def evaluate(model: nn.Module, data_loader: DataLoader) -> float:\n",
    "    \"\"\"\n",
    "    Evaluate the model.\n",
    "    \n",
    "    :param model: The model.\n",
    "    :param data_loader: The data loader.\n",
    "    :return: The accuracy\n",
    "    \"\"\"\n",
    "    accuracy_module = Accuracy(task=\"multiclass\", num_classes=model.fc4.out_features)\n",
    "    all_prob_preditions, all_labels = torch.tensor([]), torch.tensor([])\n",
    "\n",
    "    with torch.no_grad():\n",
    "        for inputs, labels in data_loader:\n",
    "            prob_preditions = model(inputs)\n",
    "            all_prob_preditions = torch.cat((all_prob_preditions, prob_preditions))\n",
    "            all_labels = torch.cat((all_labels, labels))\n",
    "\n",
    "    accuracy = accuracy_module(all_prob_preditions.argmax(dim=-1), all_labels)\n",
    "    \n",
    "    return accuracy"
   ]
  },
  {
   "cell_type": "code",
   "execution_count": 11,
   "metadata": {},
   "outputs": [
    {
     "name": "stdout",
     "output_type": "stream",
     "text": [
      "Accuracy: 82.49%\n",
      "Accuracy: 67.05%\n"
     ]
    }
   ],
   "source": [
    "# Evaluate the network.\n",
    "print(f\"Accuracy: {evaluate(classifer_with_Y, train_loader_with_Y):.2%}\")\n",
    "print(f\"Accuracy: {evaluate(classifer_with_Y, val_loader_with_Y):.2%}\")"
   ]
  },
  {
   "cell_type": "code",
   "execution_count": 12,
   "metadata": {},
   "outputs": [
    {
     "name": "stdout",
     "output_type": "stream",
     "text": [
      "[epoch: 1/150] Total Loss: 2.4558302376005385\n",
      "[epoch: 21/150] Total Loss: 1.9178077313635085\n",
      "[epoch: 41/150] Total Loss: 1.8125113877985213\n",
      "[epoch: 61/150] Total Loss: 1.7671432495117188\n",
      "[epoch: 81/150] Total Loss: 1.660578227043152\n",
      "[epoch: 101/150] Total Loss: 1.5875573853651683\n",
      "[epoch: 121/150] Total Loss: 1.5395028074582418\n",
      "[epoch: 141/150] Total Loss: 1.4479724413818784\n",
      "[epoch: 150/150] Total Loss: 1.458085294895702\n",
      "\n",
      "REDUCED LEARNING RATE TO 0.0001\n",
      "\n",
      "[epoch: 1/75] Total Loss: 1.3553193463219537\n",
      "[epoch: 21/75] Total Loss: 1.3223698907428318\n",
      "[epoch: 41/75] Total Loss: 1.306242338485188\n",
      "[epoch: 61/75] Total Loss: 1.2972087423006693\n",
      "[epoch: 75/75] Total Loss: 1.2914809743563334\n"
     ]
    }
   ],
   "source": [
    "# Create the datasets without the `Y` values.\n",
    "train_dataset_without_Y = DiabetesDataset(train_data, transform=transform, drop_Y=True)\n",
    "val_dataset_without_Y = DiabetesDataset(val_data, transform=transform, drop_Y=True)\n",
    "\n",
    "# Create the dataloaders without the `Y` values.\n",
    "train_loader_without_Y = DataLoader(train_dataset_without_Y, batch_size=BATCH_SIZE, shuffle=True)\n",
    "val_loader_without_Y = DataLoader(val_dataset_without_Y, batch_size=BATCH_SIZE, shuffle=False)\n",
    "\n",
    "# Create the model without the `Y` values.\n",
    "classifer_without_Y = DiabetesPrecentileClassifer(input_size=10)\n",
    "\n",
    "train(classifer_without_Y, train_loader_without_Y, num_epochs=150, lr=0.001,\n",
    "      print_cost=True, print_stride=20)\n",
    "print(\"\\nREDUCED LEARNING RATE TO 0.0001\\n\")\n",
    "train(classifer_without_Y, train_loader_without_Y, num_epochs=75, lr=0.0001,\n",
    "      print_cost=True, print_stride=20);"
   ]
  },
  {
   "cell_type": "code",
   "execution_count": 13,
   "metadata": {},
   "outputs": [
    {
     "name": "stdout",
     "output_type": "stream",
     "text": [
      "Accuracy: 52.26%\n",
      "Accuracy: 19.32%\n"
     ]
    }
   ],
   "source": [
    "print(f\"Accuracy: {evaluate(classifer_without_Y, train_loader_without_Y):.2%}\")\n",
    "print(f\"Accuracy: {evaluate(classifer_without_Y, val_loader_without_Y):.2%}\")"
   ]
  },
  {
   "cell_type": "markdown",
   "metadata": {},
   "source": [
    "We trained two neural networks on the dataset to predict the classes. One of the neural networks had the `Y` values as a feature, and the other one didn't. The classes were directly computed through the `Y` values, thus it is expected that the first NN will perform better."
   ]
  },
  {
   "cell_type": "markdown",
   "metadata": {},
   "source": [
    "In the next section, we will divide the dataset to $100$ classes instead of $10$ and train the networks again on this new dataset. The classes will now represent the hundredth precentile."
   ]
  },
  {
   "cell_type": "code",
   "execution_count": 14,
   "metadata": {},
   "outputs": [],
   "source": [
    "# Change dataset to hundredth percentile instead of tenth precentile.\n",
    "hundredth_percentile_data = get_labeled_data(data, num_precentiles=100)\n",
    "\n",
    "# Split the dataset into a training and a validation set.\n",
    "train_hundredth_precentile = hundredth_percentile_data.sample(frac=TRAIN_VAL_RATIO, random_state=42)\n",
    "val_hundredth_precentile = hundredth_percentile_data.drop(train_data.index)"
   ]
  },
  {
   "cell_type": "code",
   "execution_count": 15,
   "metadata": {},
   "outputs": [
    {
     "name": "stdout",
     "output_type": "stream",
     "text": [
      "[epoch: 1/150] Total Loss: 5.2099314570426944\n",
      "[epoch: 21/150] Total Loss: 0.8114013034436438\n",
      "[epoch: 41/150] Total Loss: 0.7122957885265351\n",
      "[epoch: 61/150] Total Loss: 0.6551700068844689\n",
      "[epoch: 81/150] Total Loss: 0.6347943844066726\n",
      "[epoch: 101/150] Total Loss: 0.6074779878060023\n",
      "[epoch: 121/150] Total Loss: 0.5805866906212436\n",
      "[epoch: 141/150] Total Loss: 0.5189092259440157\n",
      "[epoch: 150/150] Total Loss: 0.5086257276435693\n",
      "\n",
      "REDUCED LEARNING RATE TO 0.0001\n",
      "\n",
      "[epoch: 1/75] Total Loss: 0.45550413736038736\n",
      "[epoch: 21/75] Total Loss: 0.4403919524616665\n",
      "[epoch: 41/75] Total Loss: 0.4334119126200676\n",
      "[epoch: 61/75] Total Loss: 0.4286404980553521\n",
      "[epoch: 75/75] Total Loss: 0.4212534281114737\n",
      "Accuracy: 1.13%\n",
      "Accuracy: 1.14%\n"
     ]
    }
   ],
   "source": [
    "# Train network with `Y` values.\n",
    "\n",
    "# Create the datasets.\n",
    "train_dataset100_with_Y = DiabetesDataset(train_hundredth_precentile, transform=transform)\n",
    "val_dataset100_with_Y = DiabetesDataset(val_hundredth_precentile, transform=transform)\n",
    "\n",
    "# Create the dataloaders.\n",
    "train_loader100_with_Y = DataLoader(train_dataset100_with_Y, batch_size=BATCH_SIZE, shuffle=True)\n",
    "val_loader100_with_Y = DataLoader(val_dataset100_with_Y, batch_size=BATCH_SIZE, shuffle=False)\n",
    "\n",
    "# Create the neural network.\n",
    "classifer100_with_Y = DiabetesPrecentileClassifer(input_size=11, num_classes=100)\n",
    "\n",
    "# Train the network.\n",
    "train(classifer100_with_Y, train_loader_with_Y, num_epochs=150, lr=0.001,\n",
    "      print_cost=True, print_stride=20)\n",
    "print(\"\\nREDUCED LEARNING RATE TO 0.0001\\n\")\n",
    "train(classifer100_with_Y, train_loader_with_Y, num_epochs=75, lr=0.0001,\n",
    "      print_cost=True, print_stride=20);\n",
    "\n",
    "# Evaluate the network.\n",
    "print(f\"Accuracy: {evaluate(classifer100_with_Y, train_loader100_with_Y):.2%}\")\n",
    "print(f\"Accuracy: {evaluate(classifer100_with_Y, val_loader100_with_Y):.2%}\")"
   ]
  },
  {
   "cell_type": "code",
   "execution_count": 16,
   "metadata": {},
   "outputs": [
    {
     "name": "stdout",
     "output_type": "stream",
     "text": [
      "[epoch: 1/150] Total Loss: 5.487525765101115\n",
      "[epoch: 21/150] Total Loss: 3.770982829729716\n",
      "[epoch: 41/150] Total Loss: 3.371075839466519\n",
      "[epoch: 61/150] Total Loss: 2.987810382578108\n",
      "[epoch: 81/150] Total Loss: 2.575882848766115\n",
      "[epoch: 101/150] Total Loss: 2.2734833406077493\n",
      "[epoch: 121/150] Total Loss: 1.9971642090214623\n",
      "[epoch: 141/150] Total Loss: 1.725299224588606\n",
      "[epoch: 150/150] Total Loss: 1.6525369736883375\n",
      "\n",
      "REDUCED LEARNING RATE TO 0.0001\n",
      "\n",
      "[epoch: 1/75] Total Loss: 1.4956371002727085\n",
      "[epoch: 21/75] Total Loss: 1.3792361434963014\n",
      "[epoch: 41/75] Total Loss: 1.3478642731904984\n",
      "[epoch: 61/75] Total Loss: 1.328977722591824\n",
      "[epoch: 75/75] Total Loss: 1.3037893353237047\n",
      "Accuracy: 64.69%\n",
      "Accuracy: 0.00%\n"
     ]
    }
   ],
   "source": [
    "# Train network without `Y` values.\n",
    "\n",
    "# Create the datasets.\n",
    "train_dataset100_without_Y = DiabetesDataset(train_hundredth_precentile, transform=transform, drop_Y=True)\n",
    "val_dataset100_without_Y = DiabetesDataset(val_hundredth_precentile, transform=transform, drop_Y=True)\n",
    "\n",
    "# Create the dataloaders.\n",
    "train_loader100_without_Y = DataLoader(train_dataset100_without_Y, batch_size=BATCH_SIZE, shuffle=True)\n",
    "val_loader100_without_Y = DataLoader(val_dataset100_without_Y, batch_size=BATCH_SIZE, shuffle=False)\n",
    "\n",
    "# Create the neural network.\n",
    "classifer100_without_Y = DiabetesPrecentileClassifer(input_size=10, num_classes=100)\n",
    "\n",
    "# Train the network.\n",
    "train(classifer100_without_Y, train_loader100_without_Y, num_epochs=150, lr=0.001,\n",
    "      print_cost=True, print_stride=20)\n",
    "print(\"\\nREDUCED LEARNING RATE TO 0.0001\\n\")\n",
    "train(classifer100_without_Y, train_loader100_without_Y, num_epochs=75, lr=0.0001,\n",
    "      print_cost=True, print_stride=20)\n",
    "\n",
    "# Evaluate the network.\n",
    "print(f\"Accuracy: {evaluate(classifer100_without_Y, train_loader100_without_Y):.2%}\")\n",
    "print(f\"Accuracy: {evaluate(classifer100_without_Y, val_loader100_without_Y):.2%}\")"
   ]
  },
  {
   "cell_type": "markdown",
   "metadata": {},
   "source": [
    "We experience much worse results, that is because the dataset is too small (around $4$ instances of each class) to successfully learn how to predict a class out of $100$ classes. It is preferable to use the tenth precentile as classes instead of the hundredth precentile, since the added accuracy in the `Y` prediction gained from the $100$ classes prediction is a lesser of a gain than the added overall accuracy of the $10$ classes prediction network."
   ]
  },
  {
   "cell_type": "code",
   "execution_count": 17,
   "metadata": {},
   "outputs": [],
   "source": [
    "# 5 POINTS BONNUS\n",
    "# Train a regression network on the dataset.\n",
    "# First, redfine the dataset to be a regression dataset.\n",
    "class DiabetesRegressionDataset(Dataset):\n",
    "    def __init__(self, data: pd.DataFrame, transform: transforms.Compose | None = None):\n",
    "        self.data = data\n",
    "        self.transform = transform\n",
    "\n",
    "    def __len__(self):\n",
    "        return len(self.data)\n",
    "\n",
    "    def __getitem__(self, index):\n",
    "        row = self.data.iloc[index]\n",
    "        x = row.drop('Y')\n",
    "        if self.transform:\n",
    "            x = self.transform(x)\n",
    "        y = row['Y']\n",
    "        y = torch.tensor(y, dtype=torch.float32)\n",
    "        return x, y\n",
    "\n",
    "# Create a specific network architecture for regression.\n",
    "class DiabetesRegressionModel(nn.Module):\n",
    "    def __init__(self):\n",
    "        super(DiabetesRegressionModel, self).__init__()\n",
    "        self.fc1 = nn.Linear(10, 64)\n",
    "        self.fc2 = nn.Linear(64, 128)\n",
    "        self.fc3 = nn.Linear(128, 128)\n",
    "        self.fc4 = nn.Linear(128, 1)\n",
    "\n",
    "    def forward(self, x):\n",
    "        x = F.leaky_relu(self.fc1(x))\n",
    "        x = F.leaky_relu(self.fc2(x))\n",
    "        x = F.leaky_relu(self.fc3(x))\n",
    "        x = self.fc4(x)\n",
    "        \n",
    "        return x"
   ]
  },
  {
   "cell_type": "code",
   "execution_count": 18,
   "metadata": {},
   "outputs": [
    {
     "name": "stdout",
     "output_type": "stream",
     "text": [
      "Using CUDA for traininig.\n",
      "[epoch: 1/300] Total Loss: 23614.38343290441\n",
      "[epoch: 21/300] Total Loss: 3661.51876953125\n",
      "[epoch: 41/300] Total Loss: 2869.50208984375\n",
      "[epoch: 61/300] Total Loss: 2692.8055388327207\n",
      "[epoch: 81/300] Total Loss: 2605.936144875919\n",
      "[epoch: 101/300] Total Loss: 2497.112819967831\n",
      "[epoch: 121/300] Total Loss: 2578.360021829044\n",
      "[epoch: 141/300] Total Loss: 3108.028125\n",
      "[epoch: 161/300] Total Loss: 2490.8186994485295\n",
      "[epoch: 181/300] Total Loss: 2343.503718405331\n",
      "[epoch: 201/300] Total Loss: 2293.7829032628674\n",
      "[epoch: 221/300] Total Loss: 2359.3113861443017\n",
      "[epoch: 241/300] Total Loss: 2210.9206430951285\n",
      "[epoch: 261/300] Total Loss: 2169.8064970128676\n",
      "[epoch: 281/300] Total Loss: 2159.011867532169\n",
      "[epoch: 300/300] Total Loss: 2549.445388327206\n",
      "\n",
      "REDUCED LEARNING RATE TO 0.0001\n",
      "\n",
      "Using CUDA for traininig.\n",
      "[epoch: 1/150] Total Loss: 2236.5238453584557\n",
      "[epoch: 21/150] Total Loss: 2068.9676298253676\n",
      "[epoch: 41/150] Total Loss: 2057.761062155331\n",
      "[epoch: 61/150] Total Loss: 2052.995867991728\n",
      "[epoch: 81/150] Total Loss: 2038.5471714154412\n",
      "[epoch: 101/150] Total Loss: 2038.808182444853\n",
      "[epoch: 121/150] Total Loss: 2036.0442606847425\n",
      "[epoch: 141/150] Total Loss: 2029.7467891199449\n",
      "[epoch: 150/150] Total Loss: 2031.295518727022\n"
     ]
    },
    {
     "data": {
      "image/png": "[encoded data removed]",
      "text/plain": [
       "<Figure size 640x480 with 1 Axes>"
      ]
     },
     "metadata": {},
     "output_type": "display_data"
    }
   ],
   "source": [
    "# Now, train the network the usual way.\n",
    "# We change the output layer to have a single neuron and no activation function.\n",
    "# We also change the loss function to be the mean squared error (MSE).\n",
    "BATCH_SIZE = 85\n",
    "\n",
    "# Split the dataset into a training and a validation set.\n",
    "train_reg_data = data.sample(frac=TRAIN_VAL_RATIO, random_state=42)\n",
    "val_reg_data = data.drop(train_data.index)\n",
    "\n",
    "# Create the datasets.\n",
    "train_dataset_regression = DiabetesRegressionDataset(train_reg_data, transform=transform)\n",
    "val_dataset_regression = DiabetesRegressionDataset(val_reg_data, transform=transform)\n",
    "\n",
    "# Create the dataloaders.\n",
    "train_loader_regression = DataLoader(train_dataset_regression, batch_size=BATCH_SIZE, shuffle=True)\n",
    "val_loader_regression = DataLoader(val_dataset_regression, batch_size=BATCH_SIZE, shuffle=False)\n",
    "\n",
    "# Create the neural network.\n",
    "classifer_regression = DiabetesRegressionModel()\n",
    "\n",
    "# Train the network.\n",
    "costs1 = train(classifer_regression, train_loader_regression, num_epochs=300, lr=0.001, wd=0.001,\n",
    "               loss_func='MSE', try_cuda=True, print_cost=True, print_stride=20)\n",
    "print(\"\\nREDUCED LEARNING RATE TO 0.0001\\n\")\n",
    "costs2 = train(classifer_regression, train_loader_regression, num_epochs=150, lr=0.0001, wd=0.001,\n",
    "               loss_func='MSE', try_cuda=True, print_cost=True, print_stride=20)\n",
    "\n",
    "# Evaluate the network.\n",
    "regression_costs = np.array(costs1 + costs2)\n",
    "\n",
    "plt.plot(regression_costs)\n",
    "plt.xlabel('Epoch')\n",
    "plt.ylabel('MSE')\n",
    "plt.title('Mean Squared Error')\n",
    "plt.show()"
   ]
  },
  {
   "cell_type": "code",
   "execution_count": 19,
   "metadata": {},
   "outputs": [
    {
     "name": "stdout",
     "output_type": "stream",
     "text": [
      "Train MSE: 2442.41\n",
      "Validation MSE: 3263.32\n"
     ]
    }
   ],
   "source": [
    "# Evaluate the network.\n",
    "X_train : np.ndarray = train_reg_data.drop('Y', axis=1).values\n",
    "y_train : np.ndarray = train_reg_data['Y'].values  # type: ignore\n",
    "X_val : np.ndarray = val_reg_data.drop('Y', axis=1).values\n",
    "y_val : np.ndarray = val_reg_data['Y'].values  # type: ignore\n",
    "\n",
    "with torch.no_grad():\n",
    "    classifer_regression.cpu().eval()\n",
    "    y_hat_train = classifer_regression(torch.from_numpy(X_train).float()).squeeze()\n",
    "    y_hat_val = classifer_regression(torch.from_numpy(X_val).float()).squeeze()\n",
    "\n",
    "train_mse = F.mse_loss(y_hat_train, torch.from_numpy(y_train)).item()\n",
    "val_mse = F.mse_loss(y_hat_val, torch.from_numpy(y_val)).item()\n",
    "\n",
    "print(f\"Train MSE: {train_mse:.2f}\")\n",
    "print(f\"Validation MSE: {val_mse:.2f}\")"
   ]
  },
  {
   "cell_type": "code",
   "execution_count": 20,
   "metadata": {},
   "outputs": [
    {
     "name": "stdout",
     "output_type": "stream",
     "text": [
      "[TRAIN] Mean Squared Error: 2921.68\n",
      "[VAL] Mean Squared Error: 3499.15\n"
     ]
    },
    {
     "data": {
      "text/html": [
       "<div>\n",
       "<style scoped>\n",
       "    .dataframe tbody tr th:only-of-type {\n",
       "        vertical-align: middle;\n",
       "    }\n",
       "\n",
       "    .dataframe tbody tr th {\n",
       "        vertical-align: top;\n",
       "    }\n",
       "\n",
       "    .dataframe thead th {\n",
       "        text-align: right;\n",
       "    }\n",
       "</style>\n",
       "<table border=\"1\" class=\"dataframe\">\n",
       "  <thead>\n",
       "    <tr style=\"text-align: right;\">\n",
       "      <th></th>\n",
       "      <th>True</th>\n",
       "      <th>Predicted</th>\n",
       "    </tr>\n",
       "  </thead>\n",
       "  <tbody>\n",
       "    <tr>\n",
       "      <th>0</th>\n",
       "      <td>219</td>\n",
       "      <td>152.105512</td>\n",
       "    </tr>\n",
       "    <tr>\n",
       "      <th>1</th>\n",
       "      <td>70</td>\n",
       "      <td>184.812960</td>\n",
       "    </tr>\n",
       "    <tr>\n",
       "      <th>2</th>\n",
       "      <td>202</td>\n",
       "      <td>146.868610</td>\n",
       "    </tr>\n",
       "    <tr>\n",
       "      <th>3</th>\n",
       "      <td>230</td>\n",
       "      <td>289.457952</td>\n",
       "    </tr>\n",
       "    <tr>\n",
       "      <th>4</th>\n",
       "      <td>111</td>\n",
       "      <td>121.516933</td>\n",
       "    </tr>\n",
       "    <tr>\n",
       "      <th>5</th>\n",
       "      <td>84</td>\n",
       "      <td>97.097443</td>\n",
       "    </tr>\n",
       "    <tr>\n",
       "      <th>6</th>\n",
       "      <td>242</td>\n",
       "      <td>242.917343</td>\n",
       "    </tr>\n",
       "    <tr>\n",
       "      <th>7</th>\n",
       "      <td>272</td>\n",
       "      <td>196.659051</td>\n",
       "    </tr>\n",
       "    <tr>\n",
       "      <th>8</th>\n",
       "      <td>94</td>\n",
       "      <td>92.474037</td>\n",
       "    </tr>\n",
       "    <tr>\n",
       "      <th>9</th>\n",
       "      <td>96</td>\n",
       "      <td>115.884416</td>\n",
       "    </tr>\n",
       "  </tbody>\n",
       "</table>\n",
       "</div>"
      ],
      "text/plain": [
       "   True   Predicted\n",
       "0   219  152.105512\n",
       "1    70  184.812960\n",
       "2   202  146.868610\n",
       "3   230  289.457952\n",
       "4   111  121.516933\n",
       "5    84   97.097443\n",
       "6   242  242.917343\n",
       "7   272  196.659051\n",
       "8    94   92.474037\n",
       "9    96  115.884416"
      ]
     },
     "execution_count": 20,
     "metadata": {},
     "output_type": "execute_result"
    }
   ],
   "source": [
    "# Comparison with normal linear regression.\n",
    "X : np.ndarray = train_reg_data.drop('Y', axis=1).values\n",
    "y : np.ndarray = train_reg_data['Y'].values  # type: ignore\n",
    "\n",
    "w = np.linalg.pinv(X.T @ X) @ X.T @ y\n",
    "\n",
    "y_hat = X @ w\n",
    "\n",
    "train_mse = np.mean((y - y_hat) ** 2)\n",
    "val_mse = np.mean((y_val - X_val @ w) ** 2)  # type: ignore\n",
    "\n",
    "print(f\"[TRAIN] Mean Squared Error: {train_mse:.2f}\")\n",
    "print(f\"[VAL] Mean Squared Error: {val_mse:.2f}\")\n",
    "\n",
    "pd.DataFrame({'True': y, 'Predicted': y_hat}).head(10)"
   ]
  }
 ],
 "metadata": {
  "kernelspec": {
   "display_name": "Python 3",
   "language": "python",
   "name": "python3"
  },
  "language_info": {
   "codemirror_mode": {
    "name": "ipython",
    "version": 3
   },
   "file_extension": ".py",
   "mimetype": "text/x-python",
   "name": "python",
   "nbconvert_exporter": "python",
   "pygments_lexer": "ipython3",
   "version": "3.11.6"
  }
 },
 "nbformat": 4,
 "nbformat_minor": 2
}
