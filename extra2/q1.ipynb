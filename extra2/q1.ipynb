{
 "cells": [
  {
   "cell_type": "markdown",
   "metadata": {},
   "source": [
    "# Teacher's Assignment - Extra Credit #2"
   ]
  },
  {
   "cell_type": "markdown",
   "metadata": {},
   "source": [
    "***Author:*** *Ofir Paz* $\\qquad$ ***Version:*** *17.07.2024* $\\qquad$ ***Course:*** *22961 - Deep Learning* \\\n",
    "***Extra Assignment Course:*** *20999 - Extra Assignment 4*\n",
    "\n",
    "Welcome to the first question of the extra assignment #2 as part of the course *Deep Learning*. \\\n",
    "In this question we will train different types of auto encoders on the MNIST dataset and compare the results with various plots."
   ]
  },
  {
   "cell_type": "markdown",
   "metadata": {},
   "source": [
    "## Imports"
   ]
  },
  {
   "cell_type": "code",
   "execution_count": 1,
   "metadata": {},
   "outputs": [],
   "source": [
    "import torch  # pytorch.\n",
    "import torch.nn as nn  # neural network module.\n",
    "import numpy as np  # numpy - scientific calculations.\n",
    "from torch.utils.data import DataLoader, Dataset  # data handling.\n",
    "from sklearn.datasets import fetch_openml  # To fetch the hand-written digits dataset.\n",
    "from sklearn.model_selection import train_test_split  # To split the dataset into training and testing sets.\n",
    "import matplotlib.pyplot as plt  # plotting module.\n",
    "from tqdm.notebook import tqdm  # Progress bar\n",
    "from base_model import BaseModel  # base model class.\n",
    "\n",
    "# Type hinting.\n",
    "from torch import Tensor\n",
    "from typing import Tuple"
   ]
  },
  {
   "cell_type": "markdown",
   "metadata": {},
   "source": [
    "## Loading MNIST"
   ]
  },
  {
   "cell_type": "code",
   "execution_count": 2,
   "metadata": {},
   "outputs": [
    {
     "name": "stdout",
     "output_type": "stream",
     "text": [
      "The shape of the data array is: (70000, 784)\n",
      "Training set shape: (60000, 784)\n",
      "Validation set shape: (10000, 784)\n"
     ]
    }
   ],
   "source": [
    "# Fetch MNIST dataset\n",
    "mnist = fetch_openml('mnist_784', version=1, parser='auto')\n",
    "\n",
    "# Access features (pixel values). We don't need the target values for autoencoders.\n",
    "dataset = mnist['data']\n",
    "\n",
    "print(f\"The shape of the data array is: {dataset.shape}\")\n",
    "\n",
    "train_set, val_set = train_test_split(dataset, test_size=1/7, random_state=42)\n",
    "train_set, val_set = np.array(train_set), np.array(val_set) \n",
    "\n",
    "print(f\"Training set shape: {train_set.shape}\")\n",
    "print(f\"Validation set shape: {val_set.shape}\")"
   ]
  },
  {
   "cell_type": "code",
   "execution_count": 3,
   "metadata": {},
   "outputs": [],
   "source": [
    "# Define the dataset class for the auto encoder.\n",
    "class MNISTDataset(Dataset):\n",
    "    __mnist_shape__: Tuple[int, int, int] = (1, 28, 28)\n",
    "\n",
    "    def __init__(self, data: np.ndarray):\n",
    "        self.data = torch.from_numpy(data).to(torch.float32).view(-1, *self.__mnist_shape__) / 255.0\n",
    "\n",
    "    def __len__(self) -> int:\n",
    "        return self.data.size(0)\n",
    "\n",
    "    def __getitem__(self, idx: int) -> Tuple[Tensor, Tensor]:\n",
    "        return self.data[idx], self.data[idx]  # Return the same image as input and target."
   ]
  },
  {
   "cell_type": "code",
   "execution_count": 4,
   "metadata": {},
   "outputs": [],
   "source": [
    "batch_size = 512\n",
    "\n",
    "# Create the dataset loaders.\n",
    "train_dataset = MNISTDataset(train_set)\n",
    "val_dataset = MNISTDataset(val_set)\n",
    "train_loader = DataLoader(train_dataset, batch_size=batch_size, shuffle=True)\n",
    "val_loader = DataLoader(val_dataset, batch_size=batch_size, shuffle=False)"
   ]
  },
  {
   "cell_type": "markdown",
   "metadata": {},
   "source": [
    "## The Fully Connected Auto Encoder"
   ]
  },
  {
   "cell_type": "code",
   "execution_count": 28,
   "metadata": {},
   "outputs": [],
   "source": [
    "class BaseAutoEncoder(BaseModel):\n",
    "    \"\"\"Base autoencoder model.\n",
    "    \"\"\"\n",
    "    def __init__(self, *args, **kwargs) -> None:\n",
    "        super(BaseAutoEncoder, self).__init__(*args, **kwargs)\n",
    "        self.save_layer_outs: bool = False\n",
    "        self._layer_outs: list = []\n",
    "\n",
    "    def forward(self, x: Tensor) -> Tensor:\n",
    "        raise NotImplementedError\n",
    "    \n",
    "    @property\n",
    "    def layer_outs(self) -> list:\n",
    "        self.save_layer_outs = False\n",
    "        _layer_outs = self._layer_outs\n",
    "        self._layer_outs = []\n",
    "        return _layer_outs\n",
    "    \n",
    "    def _attach_hooks(self) -> None:\n",
    "        for layer in self.encoder:\n",
    "            layer.register_forward_hook(self._hook_fn)\n",
    "        for layer in self.decoder:\n",
    "            layer.register_forward_hook(self._hook_fn)\n",
    "\n",
    "    def _hook_fn(self, module: nn.Module, input: Tuple[Tensor], output: Tensor) -> None:\n",
    "        if self.save_layer_outs and isinstance(module, nn.ReLU):\n",
    "            assert output.size(0) == 1, \"For this operation, only 1 image in a batch is allowed.\"\n",
    "            assert int(output.numel() ** 0.5) ** 2 == output.numel(), \"Only square images are supported.\"\n",
    "            side_len = int(output.numel() ** 0.5)\n",
    "            self._layer_outs.append(output.clone().view(side_len, side_len).cpu().numpy())"
   ]
  },
  {
   "cell_type": "code",
   "execution_count": 29,
   "metadata": {},
   "outputs": [],
   "source": [
    "class FCAutoEncoder(BaseAutoEncoder):\n",
    "    \"\"\"\n",
    "    Fully connected autoencoder model.\n",
    "\n",
    "    Args:\n",
    "        input_size (int): The size of the input data.\n",
    "        layers (list[int]): The size of each hidden layer.\n",
    "\n",
    "    Attributes:\n",
    "        encoder (nn.Sequential): The encoder part of the autoencoder.\n",
    "        decoder (nn.Sequential): The decoder part of the autoencoder.\n",
    "        save_layer_outs (bool): Whether to save the output of each layer.\n",
    "        layer_outs (list[Tensor]): The output of each layer.\n",
    "    \"\"\"\n",
    "    def __init__(self, input_size: int, layers: list[int], **kwargs) -> None:\n",
    "        super(FCAutoEncoder, self).__init__(**kwargs)\n",
    "        assert len(layers) > 0, \"At least one hidden layer is required.\"\n",
    "\n",
    "        encoder_layers = []\n",
    "        \n",
    "        encoder_layers.extend([nn.Linear(input_size, layers[0])])\n",
    "        for i in range(len(layers) - 1):\n",
    "            encoder_layers.extend([nn.ReLU(), nn.Linear(layers[i], layers[i+1])])\n",
    "        encoder_layers.append(nn.Sigmoid())\n",
    "        self.encoder = nn.Sequential(*encoder_layers)\n",
    "        \n",
    "        reversed_layers = layers[::-1]\n",
    "\n",
    "        decoder_layers = []\n",
    "        for i in range(len(reversed_layers) - 1):\n",
    "            decoder_layers.extend([nn.Linear(reversed_layers[i], reversed_layers[i+1]), nn.ReLU()])\n",
    "        decoder_layers.extend([nn.Linear(reversed_layers[-1], input_size), nn.Sigmoid()])    \n",
    "        self.decoder = nn.Sequential(*decoder_layers)\n",
    "        self._attach_hooks()\n",
    "\n",
    "    def forward(self, x: Tensor) -> Tensor:\n",
    "        x = x.view(x.size(0), -1)\n",
    "        x = self.encoder(x)\n",
    "        x = self.decoder(x)\n",
    "        return x"
   ]
  },
  {
   "cell_type": "markdown",
   "metadata": {},
   "source": [
    "## Training The FC Auto Encoder"
   ]
  },
  {
   "cell_type": "code",
   "execution_count": 81,
   "metadata": {},
   "outputs": [],
   "source": [
    "input_size = 28 * 28\n",
    "layers_config1 = [256, 64, 64]\n",
    "layers_config2 = [400, 400, 64]\n",
    "layers_config3 = [16, 4]\n",
    "layers_config4 = [28 * 28]"
   ]
  },
  {
   "cell_type": "code",
   "execution_count": 32,
   "metadata": {},
   "outputs": [
    {
     "name": "stdout",
     "output_type": "stream",
     "text": [
      "Using CUDA for training.\n",
      "[epoch: 04/18] [Train loss: 0.067400  Train MSE: 0.067]  [Val loss: 0.067121]  Val MSE: 0.067]\n",
      "[epoch: 06/18] [Train loss: 0.067358  Train MSE: 0.067]  [Val loss: 0.067171]  Val MSE: 0.067]\n",
      "[epoch: 08/18] [Train loss: 0.067354  Train MSE: 0.067]  [Val loss: 0.067118]  Val MSE: 0.067]\n",
      "[epoch: 10/18] [Train loss: 0.067350  Train MSE: 0.067]  [Val loss: 0.067144]  Val MSE: 0.067]\n",
      "[epoch: 12/18] [Train loss: 0.067345  Train MSE: 0.067]  [Val loss: 0.067098]  Val MSE: 0.067]\n",
      "[epoch: 14/18] [Train loss: 0.067342  Train MSE: 0.067]  [Val loss: 0.067102]  Val MSE: 0.067]\n",
      "[epoch: 16/18] [Train loss: 0.067343  Train MSE: 0.067]  [Val loss: 0.067106]  Val MSE: 0.067]\n",
      "[epoch: 18/18] [Train loss: 0.067351  Train MSE: 0.067]  [Val loss: 0.067101]  Val MSE: 0.067]\n",
      "Using CUDA for training.\n",
      "[epoch: 19/28] [Train loss: 0.067322  Train MSE: 0.067]  [Val loss: 0.067090]  Val MSE: 0.067]\n",
      "[epoch: 21/28] [Train loss: 0.067319  Train MSE: 0.067]  [Val loss: 0.067081]  Val MSE: 0.067]\n",
      "[epoch: 23/28] [Train loss: 0.067320  Train MSE: 0.067]  [Val loss: 0.067084]  Val MSE: 0.067]\n",
      "[epoch: 25/28] [Train loss: 0.067320  Train MSE: 0.067]  [Val loss: 0.067080]  Val MSE: 0.067]\n",
      "[epoch: 27/28] [Train loss: 0.067321  Train MSE: 0.067]  [Val loss: 0.067081]  Val MSE: 0.067]\n",
      "[epoch: 28/28] [Train loss: 0.067319  Train MSE: 0.067]  [Val loss: 0.067079]  Val MSE: 0.067]\n"
     ]
    }
   ],
   "source": [
    "fc_autoencoder1 = FCAutoEncoder(input_size, layers_config1, task_type=\"regression\")\n",
    "fc_autoencoder1.fit(train_loader, val_loader, num_epochs=15, lr=0.001, print_stride=2)\n",
    "fc_autoencoder1.fit(train_loader, val_loader, num_epochs=10, lr=0.0001, print_stride=2)"
   ]
  },
  {
   "cell_type": "code",
   "execution_count": 57,
   "metadata": {},
   "outputs": [
    {
     "name": "stdout",
     "output_type": "stream",
     "text": [
      "Using CUDA for training.\n",
      "[epoch: 01/15] [Train loss: 0.078376  Train MSE: 0.078]  [Val loss: 0.067433]  Val MSE: 0.067]\n",
      "[epoch: 03/15] [Train loss: 0.062097  Train MSE: 0.062]  [Val loss: 0.060436]  Val MSE: 0.060]\n",
      "[epoch: 05/15] [Train loss: 0.053859  Train MSE: 0.054]  [Val loss: 0.051094]  Val MSE: 0.051]\n",
      "[epoch: 07/15] [Train loss: 0.037846  Train MSE: 0.038]  [Val loss: 0.033359]  Val MSE: 0.033]\n",
      "[epoch: 09/15] [Train loss: 0.026181  Train MSE: 0.026]  [Val loss: 0.024914]  Val MSE: 0.025]\n",
      "[epoch: 11/15] [Train loss: 0.022194  Train MSE: 0.022]  [Val loss: 0.021430]  Val MSE: 0.021]\n",
      "[epoch: 13/15] [Train loss: 0.019389  Train MSE: 0.019]  [Val loss: 0.018991]  Val MSE: 0.019]\n",
      "[epoch: 15/15] [Train loss: 0.016885  Train MSE: 0.017]  [Val loss: 0.016717]  Val MSE: 0.017]\n",
      "Using CUDA for training.\n",
      "[epoch: 16/25] [Train loss: 0.015990  Train MSE: 0.016]  [Val loss: 0.015983]  Val MSE: 0.016]\n",
      "[epoch: 18/25] [Train loss: 0.015655  Train MSE: 0.016]  [Val loss: 0.015671]  Val MSE: 0.016]\n",
      "[epoch: 20/25] [Train loss: 0.015345  Train MSE: 0.015]  [Val loss: 0.015364]  Val MSE: 0.015]\n",
      "[epoch: 22/25] [Train loss: 0.015041  Train MSE: 0.015]  [Val loss: 0.015075]  Val MSE: 0.015]\n",
      "[epoch: 24/25] [Train loss: 0.014744  Train MSE: 0.015]  [Val loss: 0.014803]  Val MSE: 0.015]\n",
      "[epoch: 25/25] [Train loss: 0.014602  Train MSE: 0.015]  [Val loss: 0.014654]  Val MSE: 0.015]\n"
     ]
    }
   ],
   "source": [
    "fc_autoencoder2 = FCAutoEncoder(input_size, layers_config2, task_type=\"regression\")\n",
    "fc_autoencoder2.fit(train_loader, val_loader, num_epochs=15, lr=0.001, print_stride=2)\n",
    "fc_autoencoder2.fit(train_loader, val_loader, num_epochs=10, lr=0.0001, print_stride=2)"
   ]
  },
  {
   "cell_type": "code",
   "execution_count": 64,
   "metadata": {},
   "outputs": [
    {
     "name": "stdout",
     "output_type": "stream",
     "text": [
      "Using CUDA for training.\n",
      "[epoch: 01/15] [Train loss: 0.170531  Train MSE: 0.171]  [Val loss: 0.086718]  Val MSE: 0.087]\n",
      "[epoch: 03/15] [Train loss: 0.068367  Train MSE: 0.068]  [Val loss: 0.067707]  Val MSE: 0.068]\n",
      "[epoch: 05/15] [Train loss: 0.067583  Train MSE: 0.068]  [Val loss: 0.067303]  Val MSE: 0.067]\n",
      "[epoch: 07/15] [Train loss: 0.067445  Train MSE: 0.067]  [Val loss: 0.067194]  Val MSE: 0.067]\n",
      "[epoch: 09/15] [Train loss: 0.067397  Train MSE: 0.067]  [Val loss: 0.067156]  Val MSE: 0.067]\n",
      "[epoch: 11/15] [Train loss: 0.067372  Train MSE: 0.067]  [Val loss: 0.067130]  Val MSE: 0.067]\n",
      "[epoch: 13/15] [Train loss: 0.067361  Train MSE: 0.067]  [Val loss: 0.067112]  Val MSE: 0.067]\n",
      "[epoch: 15/15] [Train loss: 0.067349  Train MSE: 0.067]  [Val loss: 0.067114]  Val MSE: 0.067]\n",
      "Using CUDA for training.\n",
      "[epoch: 16/25] [Train loss: 0.067336  Train MSE: 0.067]  [Val loss: 0.067094]  Val MSE: 0.067]\n",
      "[epoch: 18/25] [Train loss: 0.067324  Train MSE: 0.067]  [Val loss: 0.067086]  Val MSE: 0.067]\n",
      "[epoch: 20/25] [Train loss: 0.067322  Train MSE: 0.067]  [Val loss: 0.067083]  Val MSE: 0.067]\n",
      "[epoch: 22/25] [Train loss: 0.067320  Train MSE: 0.067]  [Val loss: 0.067083]  Val MSE: 0.067]\n",
      "[epoch: 24/25] [Train loss: 0.067319  Train MSE: 0.067]  [Val loss: 0.067081]  Val MSE: 0.067]\n",
      "[epoch: 25/25] [Train loss: 0.067319  Train MSE: 0.067]  [Val loss: 0.067081]  Val MSE: 0.067]\n"
     ]
    }
   ],
   "source": [
    "fc_autoencoder3 = FCAutoEncoder(input_size, layers_config3, task_type=\"regression\")\n",
    "fc_autoencoder3.fit(train_loader, val_loader, num_epochs=15, lr=0.001, print_stride=2)\n",
    "fc_autoencoder3.fit(train_loader, val_loader, num_epochs=10, lr=0.0001, print_stride=2)"
   ]
  },
  {
   "cell_type": "code",
   "execution_count": 84,
   "metadata": {},
   "outputs": [
    {
     "name": "stdout",
     "output_type": "stream",
     "text": [
      "Using CUDA for training.\n",
      "[epoch: 01/10] [Train loss: 0.056218  Train MSE: 0.056]  [Val loss: 0.034766]  Val MSE: 0.035]\n",
      "[epoch: 02/10] [Train loss: 0.026943  Train MSE: 0.027]  [Val loss: 0.020736]  Val MSE: 0.021]\n",
      "[epoch: 03/10] [Train loss: 0.017135  Train MSE: 0.017]  [Val loss: 0.014102]  Val MSE: 0.014]\n",
      "[epoch: 04/10] [Train loss: 0.012167  Train MSE: 0.012]  [Val loss: 0.010488]  Val MSE: 0.010]\n",
      "[epoch: 05/10] [Train loss: 0.009311  Train MSE: 0.009]  [Val loss: 0.008275]  Val MSE: 0.008]\n",
      "[epoch: 06/10] [Train loss: 0.007488  Train MSE: 0.007]  [Val loss: 0.006812]  Val MSE: 0.007]\n",
      "[epoch: 07/10] [Train loss: 0.006244  Train MSE: 0.006]  [Val loss: 0.005781]  Val MSE: 0.006]\n",
      "[epoch: 08/10] [Train loss: 0.005348  Train MSE: 0.005]  [Val loss: 0.005016]  Val MSE: 0.005]\n",
      "[epoch: 09/10] [Train loss: 0.004674  Train MSE: 0.005]  [Val loss: 0.004430]  Val MSE: 0.004]\n",
      "[epoch: 10/10] [Train loss: 0.004147  Train MSE: 0.004]  [Val loss: 0.003965]  Val MSE: 0.004]\n",
      "Using CUDA for training.\n",
      "[epoch: 11/20] [Train loss: 0.003827  Train MSE: 0.004]  [Val loss: 0.003807]  Val MSE: 0.004]\n",
      "[epoch: 12/20] [Train loss: 0.003686  Train MSE: 0.004]  [Val loss: 0.003672]  Val MSE: 0.004]\n",
      "[epoch: 13/20] [Train loss: 0.003556  Train MSE: 0.004]  [Val loss: 0.003551]  Val MSE: 0.004]\n",
      "[epoch: 14/20] [Train loss: 0.003439  Train MSE: 0.003]  [Val loss: 0.003442]  Val MSE: 0.003]\n",
      "[epoch: 15/20] [Train loss: 0.003337  Train MSE: 0.003]  [Val loss: 0.003344]  Val MSE: 0.003]\n",
      "[epoch: 16/20] [Train loss: 0.003243  Train MSE: 0.003]  [Val loss: 0.003256]  Val MSE: 0.003]\n",
      "[epoch: 17/20] [Train loss: 0.003158  Train MSE: 0.003]  [Val loss: 0.003175]  Val MSE: 0.003]\n",
      "[epoch: 18/20] [Train loss: 0.003080  Train MSE: 0.003]  [Val loss: 0.003100]  Val MSE: 0.003]\n",
      "[epoch: 19/20] [Train loss: 0.003007  Train MSE: 0.003]  [Val loss: 0.003031]  Val MSE: 0.003]\n",
      "[epoch: 20/20] [Train loss: 0.002938  Train MSE: 0.003]  [Val loss: 0.002964]  Val MSE: 0.003]\n"
     ]
    }
   ],
   "source": [
    "fc_autoencoder4 = FCAutoEncoder(input_size, layers_config4, task_type=\"regression\")\n",
    "fc_autoencoder4.fit(train_loader, val_loader, num_epochs=10, lr=0.001, print_stride=1)\n",
    "fc_autoencoder4.fit(train_loader, val_loader, num_epochs=10, lr=0.0001, print_stride=1)"
   ]
  },
  {
   "cell_type": "markdown",
   "metadata": {},
   "source": [
    "## Visualizing The Encoding-Decoding Path"
   ]
  },
  {
   "cell_type": "code",
   "execution_count": 85,
   "metadata": {},
   "outputs": [],
   "source": [
    "def plot_encoding_decoding_path(model: BaseAutoEncoder, input_img: Tensor, input_shape: Tuple) -> None:\n",
    "    model.save_layer_outs = True\n",
    "    model.eval()\n",
    "    with torch.no_grad():\n",
    "        output_img = model(input_img.view(*input_shape)).view(28, 28).numpy()\n",
    "    layer_outs = [input_img.view(28, 28).numpy(), *model.layer_outs, output_img]\n",
    "    plt.figure(figsize=(12, 6))\n",
    "    for i in range(len(layer_outs) // 2):\n",
    "        plt.subplot(2, len(layer_outs) // 2, i + 1)\n",
    "        plt.imshow(layer_outs[i], cmap='gray')\n",
    "        plt.title(f\"Layer {i+1} input\")\n",
    "\n",
    "    for i in range(len(layer_outs) // 2, len(layer_outs), 1):\n",
    "        plt.subplot(2, len(layer_outs) // 2, i + 1)\n",
    "        plt.imshow(layer_outs[len(layer_outs) - i + len(layer_outs) // 2 - 1], cmap='gray')\n",
    "        plt.title(f\"Layer {len(layer_outs) - i + len(layer_outs) // 2} output\")\n",
    "\n",
    "    plt.show()"
   ]
  },
  {
   "cell_type": "code",
   "execution_count": 88,
   "metadata": {},
   "outputs": [
    {
     "data": {
      "image/png": "[encoded data removed]",
      "text/plain": [
       "<Figure size 1200x600 with 2 Axes>"
      ]
     },
     "metadata": {},
     "output_type": "display_data"
    },
    {
     "data": {
      "image/png": "[encoded data removed]",
      "text/plain": [
       "<Figure size 1200x600 with 2 Axes>"
      ]
     },
     "metadata": {},
     "output_type": "display_data"
    },
    {
     "data": {
      "image/png": "[encoded data removed]",
      "text/plain": [
       "<Figure size 1200x600 with 2 Axes>"
      ]
     },
     "metadata": {},
     "output_type": "display_data"
    }
   ],
   "source": [
    "for i in [0, 300, 3000]:\n",
    "    specific_input = val_dataset[i][0]\n",
    "    plot_encoding_decoding_path(fc_autoencoder4, specific_input, input_shape=(1, -1))"
   ]
  }
 ],
 "metadata": {
  "kernelspec": {
   "display_name": "Python 3",
   "language": "python",
   "name": "python3"
  },
  "language_info": {
   "codemirror_mode": {
    "name": "ipython",
    "version": 3
   },
   "file_extension": ".py",
   "mimetype": "text/x-python",
   "name": "python",
   "nbconvert_exporter": "python",
   "pygments_lexer": "ipython3",
   "version": "3.11.6"
  }
 },
 "nbformat": 4,
 "nbformat_minor": 2
}
