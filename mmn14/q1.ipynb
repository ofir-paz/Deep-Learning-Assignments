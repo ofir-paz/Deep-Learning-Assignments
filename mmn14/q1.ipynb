{
 "cells": [
  {
   "cell_type": "markdown",
   "metadata": {},
   "source": [
    "# Teacher's Assignment No. 14 - Q1"
   ]
  },
  {
   "cell_type": "markdown",
   "metadata": {},
   "source": [
    "***Author:*** *Ofir Paz* $\\qquad$ ***Version:*** *12.05.2024* $\\qquad$ ***Course:*** *22961 - Deep Learning*\n",
    "\n",
    "Welcome to question 1 of the fourth assignment of the course *Deep Learning*. \\\n",
    "In this question, we will implement the *SplitLinear* network layer, and make various gradient calculations related to it."
   ]
  },
  {
   "cell_type": "markdown",
   "metadata": {},
   "source": [
    "## Imports"
   ]
  },
  {
   "cell_type": "markdown",
   "metadata": {},
   "source": [
    "First, we will import the required packages for this assignment.\n",
    "- [pytorch](https://pytorch.org/) - One of the most fundemental and famous tensor handling library."
   ]
  },
  {
   "cell_type": "code",
   "execution_count": 1,
   "metadata": {},
   "outputs": [],
   "source": [
    "import torch  # pytorch.\n",
    "import torch.nn as nn  # neural network module.\n",
    "import torch.nn.functional as F  # functional module."
   ]
  },
  {
   "cell_type": "markdown",
   "metadata": {},
   "source": [
    "## SplitLinear Implementation"
   ]
  },
  {
   "cell_type": "markdown",
   "metadata": {},
   "source": [
    "We will start with the implementation of the *SplitLinear* layer, using pytorch."
   ]
  },
  {
   "cell_type": "code",
   "execution_count": 17,
   "metadata": {},
   "outputs": [],
   "source": [
    "class SplitLinear(nn.Module):\n",
    "    '''SplitLinear layer.\n",
    "    \n",
    "    The SplitLinear layer is a linear layer that splits the input tensor in half, \n",
    "    applies a linear transformation to each half, and concatenates the results.\n",
    "    '''\n",
    "    def __init__(self, layer_size: int) -> None:\n",
    "        '''\n",
    "        Constructor for the SplitLinear layer.\n",
    "\n",
    "        Args:\n",
    "            layer_size (int) - Number of features. assumes even.\n",
    "        '''\n",
    "        super(SplitLinear, self).__init__()\n",
    "        self.linear = nn.Linear(layer_size // 2, layer_size // 2)\n",
    "\n",
    "        # Use Xavier initialization for the weights.\n",
    "        # Reasoning for use in the video.\n",
    "        nn.init.xavier_uniform_(self.linear.weight)\n",
    "\n",
    "    def forward(self, x: torch.Tensor) -> torch.Tensor:\n",
    "        '''\n",
    "        Forward pass of the layer.\n",
    "\n",
    "        Args:\n",
    "            x (torch.Tensor) - Input tensor.\n",
    "                Assumes shape (batch_size, #features), where #features is even.\n",
    "\n",
    "        Returns:\n",
    "            torch.Tensor - Output tensor.\n",
    "        '''\n",
    "\n",
    "        # Split the input tensor in half.\n",
    "        x1, x2 = torch.chunk(x, 2, dim=1)\n",
    "\n",
    "        # Apply linear transformation to each half.\n",
    "        x1, x2 = self.linear(x1), self.linear(x2)\n",
    "\n",
    "        # Concatenate the results and apply ReLU.\n",
    "        x = F.relu(torch.cat([x1, x2], dim=1))\n",
    "\n",
    "        return x"
   ]
  },
  {
   "cell_type": "code",
   "execution_count": 20,
   "metadata": {},
   "outputs": [
    {
     "name": "stdout",
     "output_type": "stream",
     "text": [
      "Input:\n",
      "X = tensor([[-1.5434, -1.9621,  1.5148,  0.1254, -0.5788,  0.9155],\n",
      "        [-1.7521,  0.6839, -1.0127,  1.8485,  0.7364, -0.4879]])\n",
      "X.shape = torch.Size([2, 6])\n",
      "\n",
      "Split:\n",
      "X1 = tensor([[-1.5434, -1.9621,  1.5148],\n",
      "        [-1.7521,  0.6839, -1.0127]])\n",
      "X2 = tensor([[ 0.1254, -0.5788,  0.9155],\n",
      "        [ 1.8485,  0.7364, -0.4879]])\n",
      "X1.shape = torch.Size([2, 3])\n",
      "X2.shape = torch.Size([2, 3])\n",
      "\n",
      "Linear:\n",
      "Z1 = tensor([[-0.6188, -2.3026,  1.8200],\n",
      "        [-1.7879, -1.2673,  0.1810]])\n",
      "Z2 = tensor([[-0.1464, -0.2885,  1.0220],\n",
      "        [ 0.9029,  1.6032, -0.2288]])\n",
      "Z1.shape = torch.Size([2, 3])\n",
      "Z2.shape = torch.Size([2, 3])\n",
      "\n",
      "Output:\n",
      "Y = tensor([[0.0000, 0.0000, 1.5148, 0.1254, 0.0000, 0.9155],\n",
      "        [0.0000, 0.6839, 0.0000, 1.8485, 0.7364, 0.0000]])\n",
      "Y.shape = torch.Size([2, 6])\n"
     ]
    }
   ],
   "source": [
    "# Example if Single pass through the `SplitLinear` layer.\n",
    "split_linear = SplitLinear(6)\n",
    "\n",
    "# Random input tensor.\n",
    "X = torch.randn(2, 6)\n",
    "print(f\"Input:\\n{X = }\")\n",
    "print(f\"{X.shape = }\\n\")\n",
    "\n",
    "# Forward pass (not using `.forward` for printing each stage).\n",
    "with torch.no_grad():\n",
    "    X1, X2 = torch.chunk(X, 2, dim=1)\n",
    "    print(f\"Split:\\n{X1 = }\\n{X2 = }\")\n",
    "    print(f\"{X1.shape = }\\n{X2.shape = }\\n\")\n",
    "\n",
    "    Z1, Z2 = split_linear.linear(X1), split_linear.linear(X2)\n",
    "    print(f\"Linear:\\n{Z1 = }\\n{Z2 = }\")\n",
    "    print(f\"{Z1.shape = }\\n{Z2.shape = }\\n\")\n",
    "\n",
    "    Y = F.relu(torch.cat([X1, X2], dim=1))\n",
    "    print(f\"Output:\\n{Y = }\")\n",
    "    print(f\"{Y.shape = }\")"
   ]
  },
  {
   "cell_type": "markdown",
   "metadata": {},
   "source": [
    "## Block diagram\n",
    "\n",
    "To easily understand the Split Linear layer, we can see the next block diagram that describes it.\n",
    "\n",
    "<img src=\"block_diagram_q1.png\"></img>"
   ]
  },
  {
   "cell_type": "markdown",
   "metadata": {},
   "source": [
    "## Analysis of SplitLinear vs. Standard Linear Layer\n",
    "### Parameters in SplitLinear Layer\n",
    "- Input size: $m$ (even)\n",
    "- Output size: $m$\n",
    "- Weight matrix: $(\\frac{m}{2}, \\frac{m}{2})$\n",
    "- Bias vector: $(\\frac{m}{2})$ (duplicated)\n",
    "- Total Parameters: $(\\frac{m}{2})^2 + \\frac{m}{2}$\n",
    "\n",
    "### Parameters in Standard Linear Layer\n",
    "- Weight matrix: $(m, m)$\n",
    "- Bias vector: $(m)$\n",
    "- Total Parameters: $m^2 + m$\n",
    "\n",
    "### Ratio of Parameters\n",
    "$$\n",
    "\\frac{\\#SplitLinear}{\\#Linear}\n",
    "    = \\frac{(\\frac{m}{2})^2 + \\frac{m}{2}}{m^2 + m} \n",
    "    = \\frac{\\frac{m}{4} + \\frac{1}{2}}{m + 1} \n",
    "    = \\frac{1}{4} \\cdot \\frac{m + \\frac{1}{8}}{m + 1}\n",
    "    \\xrightarrow[m \\rightarrow \\infty]{} \\frac{1}{4} \n",
    "$$"
   ]
  },
  {
   "cell_type": "markdown",
   "metadata": {},
   "source": [
    "## Gradient Calculating"
   ]
  },
  {
   "cell_type": "markdown",
   "metadata": {},
   "source": [
    "$ \\def\\d{\\delta} $\n",
    "To caluculate the number of parameters in the `SplitLinear` layer, we can use the *chain rule*.\n",
    "\n",
    "Assuming we have $\\frac{\\d C}{\\d Y}$ already calculated, we get\n",
    "\n",
    "$$\n",
    "\\frac{\\d C}{\\d w_{p, q}} = \\frac{\\d C}{\\d Y_p} \\cdot \\frac{\\d Y_p}{\\d Z_p} \\cdot \\frac{\\d Z_p}{\\d w_{p, q}} \n",
    "                         + \\frac{\\d C}{\\d Y_{p + \\frac{m}{2}}} \\cdot \\frac{\\d Y_p}{\\d Z_p} \\cdot \\frac{\\d Z_p}{\\d w_{p, q}} \n",
    "$$\n",
    "\n"
   ]
  },
  {
   "cell_type": "markdown",
   "metadata": {},
   "source": []
  }
 ],
 "metadata": {
  "kernelspec": {
   "display_name": "Python 3",
   "language": "python",
   "name": "python3"
  },
  "language_info": {
   "codemirror_mode": {
    "name": "ipython",
    "version": 3
   },
   "file_extension": ".py",
   "mimetype": "text/x-python",
   "name": "python",
   "nbconvert_exporter": "python",
   "pygments_lexer": "ipython3",
   "version": "3.11.6"
  }
 },
 "nbformat": 4,
 "nbformat_minor": 2
}
