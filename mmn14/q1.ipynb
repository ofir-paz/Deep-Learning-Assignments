{
 "cells": [
  {
   "cell_type": "markdown",
   "metadata": {},
   "source": [
    "# Teacher's Assignment No. 14 - Q1"
   ]
  },
  {
   "cell_type": "markdown",
   "metadata": {},
   "source": [
    "***Author:*** *Ofir Paz* $\\qquad$ ***Version:*** *12.05.2024* $\\qquad$ ***Course:*** *22961 - Deep Learning*\n",
    "\n",
    "Welcome to question 1 of the fourth assignment of the course *Deep Learning*. \\\n",
    "In this question, we will implement the *SplitLinear* network layer, and make various gradient calculations related to it."
   ]
  },
  {
   "cell_type": "markdown",
   "metadata": {},
   "source": [
    "## Imports"
   ]
  },
  {
   "cell_type": "markdown",
   "metadata": {},
   "source": [
    "First, we will import the required packages for this assignment.\n",
    "- [pytorch](https://pytorch.org/) - One of the most fundemental and famous tensor handling library.\n",
    "- [numpy](https://numpy.org) - The fundamental package for scientific computing with Python.\n",
    "- [pandas](https://pandas.pydata.org) - Library to handle data in Python.\n",
    "- [matplotlib](https://matplotlib.org) - Library to plot graphs in Python."
   ]
  },
  {
   "cell_type": "code",
   "execution_count": 1,
   "metadata": {},
   "outputs": [],
   "source": [
    "import torch  # pytorch.\n",
    "import torch.nn as nn  # neural network module.\n",
    "import torch.nn.functional as F  # functional module.\n",
    "import numpy as np  # numpy.\n",
    "import matplotlib.pyplot as plt  # plotting.\n",
    "from typing import Literal  # type hinting."
   ]
  },
  {
   "cell_type": "markdown",
   "metadata": {},
   "source": [
    "## SplitLinear Implementation"
   ]
  },
  {
   "cell_type": "markdown",
   "metadata": {},
   "source": [
    "We will start with the implementation of the *SplitLinear* layer, using pytorch."
   ]
  },
  {
   "cell_type": "code",
   "execution_count": 2,
   "metadata": {},
   "outputs": [],
   "source": [
    "class SplitLinear(nn.Module):\n",
    "    '''SplitLinear layer.\n",
    "    \n",
    "    The SplitLinear layer is a linear layer that splits the input tensor in half, \n",
    "    applies a linear transformation to each half, and concatenates the results.\n",
    "    '''\n",
    "    def __init__(self, input_size: int, output_size: int) -> None:\n",
    "        '''\n",
    "        Constructor for the SplitLinear layer.\n",
    "\n",
    "        Args:\n",
    "            input_size (int) - Size of the input tensor (Assumes even).\n",
    "            output_size (int) - Size of the output tensor.\n",
    "        '''\n",
    "        super(SplitLinear, self).__init__()\n",
    "        self.linear = nn.Linear(input_size // 2, output_size)\n",
    "\n",
    "        # Use Xavier initialization for the weights.\n",
    "        # Reasoning for use in the video.\n",
    "        nn.init.xavier_uniform_(self.linear.weight)\n",
    "\n",
    "    def forward(self, x: torch.Tensor) -> torch.Tensor:\n",
    "        '''\n",
    "        Forward pass of the layer.\n",
    "\n",
    "        Args:\n",
    "            x (torch.Tensor) - Input tensor.\n",
    "                Assumes shape (batch_size, #features), where #features is even.\n",
    "\n",
    "        Returns:\n",
    "            torch.Tensor - Output tensor.\n",
    "        '''\n",
    "\n",
    "        # Split the input tensor in half.\n",
    "        x1, x2 = torch.chunk(x, 2, dim=1)\n",
    "\n",
    "        # Apply linear transformation to each half.\n",
    "        x1, x2 = self.fc(x1), self.fc(x2)\n",
    "\n",
    "        # Concatenate the results and apply ReLU.\n",
    "        x = F.relu(torch.cat([x1, x2], dim=1))\n",
    "\n",
    "        return x"
   ]
  },
  {
   "cell_type": "code",
   "execution_count": 3,
   "metadata": {},
   "outputs": [
    {
     "name": "stdout",
     "output_type": "stream",
     "text": [
      "Input:\n",
      "x = tensor([[-0.3024, -0.3163, -1.8870,  1.1589,  1.2414,  0.0218],\n",
      "        [ 0.4037,  0.8021, -1.2792, -0.1575, -0.2317,  1.0961]])\n",
      "Split:\n",
      "x1 = tensor([[-0.3024, -0.3163, -1.8870],\n",
      "        [ 0.4037,  0.8021, -1.2792]])\n",
      "x2 = tensor([[ 1.1589,  1.2414,  0.0218],\n",
      "        [-0.1575, -0.2317,  1.0961]])\n",
      "Linear:\n",
      "x1 = tensor([[-0.1756,  0.6182, -1.6125,  0.4275, -0.1730],\n",
      "        [ 0.1825,  0.0253, -1.1398,  0.8968,  0.0883]],\n",
      "       grad_fn=<AddmmBackward0>)\n",
      "x2 = tensor([[ 0.5599, -0.5488, -0.1931,  0.8926, -0.0974],\n",
      "        [ 0.0303, -0.8973,  0.9043, -0.7078, -0.1352]],\n",
      "       grad_fn=<AddmmBackward0>)\n",
      "Output:\n",
      "x = tensor([[0.0000, 0.6182, 0.0000, 0.4275, 0.0000, 0.5599, 0.0000, 0.0000, 0.8926,\n",
      "         0.0000],\n",
      "        [0.1825, 0.0253, 0.0000, 0.8968, 0.0883, 0.0303, 0.0000, 0.9043, 0.0000,\n",
      "         0.0000]], grad_fn=<ReluBackward0>)\n"
     ]
    }
   ],
   "source": [
    "# Example if Single pass through the `SplitLinear` layer.\n",
    "split_linear = SplitLinear(6, 5)\n",
    "\n",
    "# Random input tensor.\n",
    "x = torch.randn(2, 6)\n",
    "\n",
    "# Forward pass (not using `.forward` for printing each stage).\n",
    "print(f\"Input:\\n{x = }\")\n",
    "x1, x2 = torch.chunk(x, 2, dim=1)\n",
    "print(f\"Split:\\n{x1 = }\\n{x2 = }\")\n",
    "x1, x2 = split_linear.linear(x1), split_linear.linear(x2)\n",
    "print(f\"Linear:\\n{x1 = }\\n{x2 = }\")\n",
    "x = F.relu(torch.cat([x1, x2], dim=1))\n",
    "print(f\"Output:\\n{x = }\")"
   ]
  }
 ],
 "metadata": {
  "kernelspec": {
   "display_name": "Python 3",
   "language": "python",
   "name": "python3"
  },
  "language_info": {
   "codemirror_mode": {
    "name": "ipython",
    "version": 3
   },
   "file_extension": ".py",
   "mimetype": "text/x-python",
   "name": "python",
   "nbconvert_exporter": "python",
   "pygments_lexer": "ipython3",
   "version": "3.11.6"
  }
 },
 "nbformat": 4,
 "nbformat_minor": 2
}
