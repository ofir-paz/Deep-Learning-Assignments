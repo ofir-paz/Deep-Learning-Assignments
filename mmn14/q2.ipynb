{
 "cells": [
  {
   "cell_type": "markdown",
   "metadata": {},
   "source": [
    "# Teacher's Assignment No. 14 - Q2"
   ]
  },
  {
   "cell_type": "markdown",
   "metadata": {},
   "source": [
    "***Author:*** *Ofir Paz* $\\qquad$ ***Version:*** *15.05.2024* $\\qquad$ ***Course:*** *22961 - Deep Learning*\n",
    "\n",
    "Welcome to question 2 of the fourth assignment of the course *Deep Learning*. \\\n",
    "In this question, we will implement the *DropNorm* network layer, and compare the use of this layer to the normal dropout and normalizing layers in pytorch with training on *Fashion-MNIST*"
   ]
  },
  {
   "cell_type": "markdown",
   "metadata": {},
   "source": [
    "## Imports"
   ]
  },
  {
   "cell_type": "markdown",
   "metadata": {},
   "source": [
    "First, we will import the required packages for this assignment.\n",
    "- [pytorch](https://pytorch.org/) - One of the most fundemental and famous tensor handling library.\n",
    "- [matplotlib](https://matplotlib.org) - Library to plot graphs in Python."
   ]
  },
  {
   "cell_type": "code",
   "execution_count": 1,
   "metadata": {},
   "outputs": [],
   "source": [
    "import torch  # pytorch.\n",
    "import torch.nn as nn  # neural network module.\n",
    "import torch.optim as optim  # optimizer module.\n",
    "from torch.utils.data import DataLoader  # data loader.\n",
    "from torchvision import datasets, transforms  # torchvision, for datasets.\n",
    "from torchmetrics import Accuracy  # accuracy metric.\n",
    "import matplotlib.pyplot as plt  # plotting."
   ]
  },
  {
   "cell_type": "markdown",
   "metadata": {},
   "source": [
    "## DropNorm Implementation"
   ]
  },
  {
   "cell_type": "markdown",
   "metadata": {},
   "source": [
    "We will start with the implementation of the *DropNorm* layer, using pytorch."
   ]
  },
  {
   "cell_type": "code",
   "execution_count": 2,
   "metadata": {},
   "outputs": [],
   "source": [
    "class DropNorm(nn.Module):\n",
    "    '''DropNorm layer.\n",
    "    \n",
    "    The DropNorm layer is a combined dropout and batch norm layers that in training mode\n",
    "    zeros half of the input tensor and normalizes the other half. In evaluation mode, it\n",
    "    normalizes the entire input tensor.\n",
    "    '''\n",
    "    def __init__(self, features: torch.Size | tuple[int] | int) -> None:\n",
    "        '''\n",
    "        Constructor for the DropNorm layer.\n",
    "\n",
    "        Args:\n",
    "            features (torch.Size | tuple | int) - Shape of the input tensor.\n",
    "        '''\n",
    "        super(DropNorm, self).__init__()\n",
    "\n",
    "        self.gammas = nn.Parameter(torch.ones(features))\n",
    "        self.betas = nn.Parameter(torch.zeros(features))\n",
    "        self.eps = 1e-6\n",
    "        self.p = 0.5\n",
    "        self.features_shape = features if isinstance(features, tuple) else (features,)\n",
    "\n",
    "    def forward(self, x: torch.Tensor) -> torch.Tensor:\n",
    "        '''\n",
    "        Forward pass of the layer.\n",
    "\n",
    "        Args:\n",
    "            x (torch.Tensor) - Input tensor. Assumes shape (batch_size, *features).\n",
    "\n",
    "        Returns:\n",
    "            torch.Tensor - Output tensor.\n",
    "        '''\n",
    "        if self.training:\n",
    "            num_features = x.numel() // x.size(0)\n",
    "            mask = torch.ones(num_features, dtype=torch.bool, device=x.device)\n",
    "            indices_to_zero = torch.randperm(num_features, device=x.device)[:round(num_features * self.p)]\n",
    "            mask[indices_to_zero] = False\n",
    "            mask = mask.view(self.features_shape)\n",
    "            masked_x = x[: , mask]\n",
    "            x_mean = masked_x.mean(dim=tuple(range(1, x.dim())), keepdim=True)\n",
    "            x_var = masked_x.var(dim=tuple(range(1, x.dim())), keepdim=True)\n",
    "            x = (x - x_mean) / torch.sqrt(x_var + self.eps)\n",
    "            x = torch.where(mask, x * self.gammas + self.betas, 0)\n",
    "\n",
    "        else:\n",
    "            x_mean = x.mean(dim=tuple(range(1, x.dim())), keepdim=True)\n",
    "            x_var = x.var(dim=tuple(range(1, x.dim())), keepdim=True)\n",
    "            x = (x - x_mean) / torch.sqrt(x_var + self.eps)\n",
    "            x = x * self.gammas + self.betas\n",
    "                \n",
    "        return x"
   ]
  },
  {
   "cell_type": "markdown",
   "metadata": {},
   "source": [
    "## Training Network on Fashion-MNIST"
   ]
  },
  {
   "cell_type": "code",
   "execution_count": 3,
   "metadata": {},
   "outputs": [],
   "source": [
    "# Configure hyper parameters.\n",
    "device = 'cuda' if torch.cuda.is_available() else 'cpu'\n",
    "batch_size = 1024 if device == 'cuda' else 256\n",
    "\n",
    "# Load the Fashion-MNIST dataset.\n",
    "\n",
    "# Define the transformations.\n",
    "transform = transforms.Compose([transforms.ToTensor(), transforms.Normalize((0.1307,), (0.3081,))])\n",
    "\n",
    "# Load the dataset.\n",
    "train_set = datasets.FashionMNIST('data', download=True, train=True, transform=transform)\n",
    "val_set = datasets.FashionMNIST('data', download=True, train=False, transform=transform)\n",
    "\n",
    "# Prepare the data loaders.\n",
    "train_loader = DataLoader(train_set, batch_size=batch_size, shuffle=True)\n",
    "val_loader = DataLoader(val_set, batch_size=batch_size, shuffle=False)"
   ]
  },
  {
   "cell_type": "markdown",
   "metadata": {},
   "source": [
    "Next code snippet introduces the `BaseModel` class, which will serve as a base model for the two networks that we need to implement. "
   ]
  },
  {
   "cell_type": "code",
   "execution_count": 4,
   "metadata": {},
   "outputs": [],
   "source": [
    "class BaseModel(nn.Module):\n",
    "    '''Base model class.'''\n",
    "    def __init__(self) -> None:\n",
    "        '''Constructor.'''\n",
    "        super(BaseModel, self).__init__()\n",
    "        self.best_weights = []\n",
    "        self.epoch: int = 0\n",
    "        self.costs: list[float] = []\n",
    "        self.train_accs: list[float] = []\n",
    "        self.val_accs: list[float] = []\n",
    "\n",
    "    def forward(self, x: torch.Tensor) -> torch.Tensor:\n",
    "        '''Forward pass.'''\n",
    "        raise NotImplementedError\n",
    "    \n",
    "    def fit(self, train_loader: DataLoader, val_loader: DataLoader,\n",
    "            num_epochs: int = 30, lr: float = 0.001, wd: float = 0., \n",
    "            try_cuda: bool = True, quite: bool = False, print_stride: int = 1) -> None:\n",
    "        '''\n",
    "        Base function for training the model.\n",
    "\n",
    "        Args:\n",
    "            train_loader (DataLoader) - The dataloader to fit the model to.\n",
    "            val_loader (DataLoader) - The dataloader to validate the model on.\n",
    "            num_epochs (int) - Number of epochs.\n",
    "            lr (float) - Learning rate.\n",
    "            wd (float) - Weight decay.\n",
    "            try_cuda (bool) - Try to use CUDA.\n",
    "            quite (bool) - Quite mode.\n",
    "            print_stride (int) - Print stride (in epochs).\n",
    "        '''\n",
    "        use_cuda = try_cuda and torch.cuda.is_available()\n",
    "        if use_cuda:\n",
    "            self.cuda()\n",
    "            print(\"Using CUDA for traininig.\")\n",
    "        else:\n",
    "            self.cpu()\n",
    "            print(\"Using CPU for training.\")\n",
    "\n",
    "        # Create the optimizer and criterion.\n",
    "        optimizer = optim.Adam(self.parameters(), lr=lr, weight_decay=wd)\n",
    "        criterion = nn.CrossEntropyLoss()\n",
    "\n",
    "        start_epoch = self.epoch\n",
    "        for epoch in range(num_epochs):\n",
    "            train_true = 0.\n",
    "            running_loss = 0.\n",
    "            self.epoch += 1\n",
    "            for mb, (x, y) in enumerate(train_loader):\n",
    "                if use_cuda:\n",
    "                    x, y = x.cuda(), y.cuda()\n",
    "\n",
    "                # zero the parameter gradients\n",
    "                optimizer.zero_grad()\n",
    "\n",
    "                # forward + backward + optimize\n",
    "                y_hat = self(x)\n",
    "\n",
    "                loss = criterion(y_hat, y)\n",
    "                loss.backward()\n",
    "                optimizer.step()\n",
    "\n",
    "                # Calc loss\n",
    "                lloss = loss.item()\n",
    "                running_loss += lloss * x.size(0)\n",
    "\n",
    "                # Calc accuracy\n",
    "                train_true += (y_hat.argmax(1) == y).sum().item()\n",
    "\n",
    "                if not quite:\n",
    "                    print(f\"\\r[epoch: {self.epoch:02d}/{start_epoch + num_epochs:02d}\", end=\" \")\n",
    "                    print(f\"mb: {mb + 1:03d}/{len(train_loader):03d}]\", end=\" \")\n",
    "                    print(f\"loss: {lloss:.6f}\", end=\"\")\n",
    "\n",
    "            epoch_loss = running_loss / len(train_loader.dataset)  # type: ignore\n",
    "            train_acc = train_true / len(train_loader.dataset)  # type: ignore\n",
    "            val_acc = self.calc_acc(val_loader, use_cuda)\n",
    "            self.save_best_weights(val_acc)\n",
    "            self.costs.append(epoch_loss)\n",
    "            self.train_accs.append(train_acc)\n",
    "            self.val_accs.append(val_acc)\n",
    "                \n",
    "            if not quite and (epoch % print_stride == 0 or epoch == num_epochs - 1):\n",
    "                print(f\"\\r[epoch: {self.epoch:02d}/{start_epoch + num_epochs:02d}]\", end=\" \")\n",
    "                print(f\"[Total Loss: {epoch_loss:.6f}]\", end=\" \")\n",
    "                print(f\"[Train Acc: {100 * train_acc:.3f}%]\", end=\" \")\n",
    "                print(f\"[Val Acc: {100 * val_acc:.3f}%]\")\n",
    "\n",
    "    \n",
    "    def calc_acc(self, data_loader: DataLoader, use_cuda: bool) -> float:\n",
    "        '''\n",
    "        Calculates and returns the accuracy of the model on a give dataset.\n",
    "\n",
    "        Args:\n",
    "            data_loader (DataLoader) - Data loader.\n",
    "            use_cuda (bool) - Use CUDA flag.\n",
    "        '''\n",
    "        \n",
    "        accuracy = Accuracy(task=\"multiclass\", num_classes=10)\n",
    "        if use_cuda:\n",
    "            accuracy = accuracy.cuda()\n",
    "        self.eval()\n",
    "        acc = 0.\n",
    "        with torch.no_grad():\n",
    "            for x, y in data_loader:\n",
    "                if use_cuda:\n",
    "                    x, y = x.cuda(), y.cuda()\n",
    "                y_hat = self(x)\n",
    "                acc += accuracy(y_hat, y).item() * x.size(0)\n",
    "        \n",
    "        self.train()\n",
    "        return acc / len(data_loader.dataset)  # type: ignore\n",
    "    \n",
    "    def save_best_weights(self, val_acc: float) -> None:\n",
    "        '''Saves the best weights of the model.'''\n",
    "        if not self.best_weights:\n",
    "            for p in self.parameters():\n",
    "                self.best_weights.append(p.detach().clone())\n",
    "        elif val_acc > max(self.val_accs):\n",
    "            for i, p in enumerate(self.parameters()):\n",
    "                self.best_weights[i].data = p.detach().clone()\n",
    "\n",
    "    def load_best_weights(self) -> None:\n",
    "        '''Loads the best weights of the model.'''\n",
    "        for i, p in enumerate(self.parameters()):\n",
    "            p.data = self.best_weights[i].clone()"
   ]
  },
  {
   "cell_type": "code",
   "execution_count": 5,
   "metadata": {},
   "outputs": [],
   "source": [
    "class NormalNet(BaseModel):\n",
    "    '''Normal Net\n",
    "    A simple CNN that utilizes batch normalization and dropout.\n",
    "    '''\n",
    "    def __init__(self) -> None:\n",
    "        super(NormalNet, self).__init__()\n",
    "\n",
    "        self.convs = nn.Sequential(\n",
    "            nn.Conv2d(1, 32, kernel_size=5, padding=2),\n",
    "            nn.ReLU(inplace=True),\n",
    "            nn.MaxPool2d(kernel_size=2, stride=2),\n",
    "            nn.Conv2d(32, 64, kernel_size=3, padding=1),\n",
    "            nn.ReLU(inplace=True),\n",
    "            nn.MaxPool2d(kernel_size=2, stride=2))\n",
    "\n",
    "        self.fc = nn.Sequential(\n",
    "            nn.Linear(64 * 7 * 7, 128),\n",
    "            nn.Dropout(0.5),\n",
    "            nn.BatchNorm1d(128),\n",
    "            nn.ReLU(inplace=True),\n",
    "            nn.Linear(128, 80),\n",
    "            nn.Dropout(0.5),\n",
    "            nn.BatchNorm1d(80),\n",
    "            nn.ReLU(inplace=True),\n",
    "            nn.Linear(80, 10))\n",
    "\n",
    "    def forward(self, x: torch.Tensor) -> torch.Tensor:\n",
    "        x = self.convs(x)\n",
    "        x = x.view(x.size(0), -1)\n",
    "        x = self.fc(x)\n",
    "        return x"
   ]
  },
  {
   "cell_type": "code",
   "execution_count": 6,
   "metadata": {},
   "outputs": [
    {
     "name": "stdout",
     "output_type": "stream",
     "text": [
      "Using CUDA for traininig.\n",
      "[epoch: 01/10] [Total Loss: 1.093970] [Train Acc: 71.395%] [Val Acc: 85.360%]\n",
      "[epoch: 02/10] [Total Loss: 0.467985] [Train Acc: 86.845%] [Val Acc: 88.370%]\n",
      "[epoch: 03/10] [Total Loss: 0.355781] [Train Acc: 89.392%] [Val Acc: 89.860%]\n",
      "[epoch: 04/10] [Total Loss: 0.307173] [Train Acc: 90.425%] [Val Acc: 89.960%]\n",
      "[epoch: 05/10] [Total Loss: 0.272313] [Train Acc: 91.487%] [Val Acc: 90.000%]\n",
      "[epoch: 06/10] [Total Loss: 0.252272] [Train Acc: 92.055%] [Val Acc: 90.900%]\n",
      "[epoch: 07/10] [Total Loss: 0.232545] [Train Acc: 92.690%] [Val Acc: 90.990%]\n",
      "[epoch: 08/10] [Total Loss: 0.223163] [Train Acc: 92.858%] [Val Acc: 91.200%]\n",
      "[epoch: 09/10] [Total Loss: 0.204087] [Train Acc: 93.337%] [Val Acc: 91.680%]\n",
      "[epoch: 10/10] [Total Loss: 0.203787] [Train Acc: 93.292%] [Val Acc: 90.860%]\n"
     ]
    }
   ],
   "source": [
    "# Use normal net to train the model.\n",
    "normal_model = NormalNet()\n",
    "\n",
    "# Train the model.\n",
    "normal_model.fit(train_loader, val_loader, num_epochs=10, lr=0.0015, wd=0.0005, \n",
    "                 try_cuda=True, print_stride=1)"
   ]
  },
  {
   "cell_type": "code",
   "execution_count": 7,
   "metadata": {},
   "outputs": [],
   "source": [
    "class CostumeNet(BaseModel):\n",
    "    '''Costume Net model.\n",
    "    Same as the NormalNet mode but with DropNorm layer.\n",
    "    '''\n",
    "    def __init__(self) -> None:\n",
    "        super(CostumeNet, self).__init__()\n",
    "\n",
    "        self.convs = nn.Sequential(\n",
    "            nn.Conv2d(1, 32, kernel_size=5, padding=2),\n",
    "            nn.ReLU(inplace=True),\n",
    "            nn.MaxPool2d(kernel_size=2, stride=2),\n",
    "            nn.Conv2d(32, 64, kernel_size=3, padding=1),\n",
    "            nn.ReLU(inplace=True),\n",
    "            nn.MaxPool2d(kernel_size=2, stride=2))\n",
    "\n",
    "        self.fc = nn.Sequential(\n",
    "            nn.Linear(64 * 7 * 7, 128),\n",
    "            DropNorm(128),\n",
    "            nn.ReLU(inplace=True),\n",
    "            nn.Linear(128, 80),\n",
    "            DropNorm(80),\n",
    "            nn.ReLU(inplace=True),\n",
    "            nn.Linear(80, 10))\n",
    "        \n",
    "    def forward(self, x: torch.Tensor) -> torch.Tensor:\n",
    "        x = self.convs(x)\n",
    "        x = x.view(x.size(0), -1)\n",
    "        x = self.fc(x)\n",
    "        return x"
   ]
  },
  {
   "cell_type": "code",
   "execution_count": 8,
   "metadata": {},
   "outputs": [
    {
     "name": "stdout",
     "output_type": "stream",
     "text": [
      "Using CUDA for traininig.\n",
      "[epoch: 01/10] [Total Loss: 1.839699] [Train Acc: 43.367%] [Val Acc: 69.790%]\n",
      "[epoch: 02/10] [Total Loss: 1.079589] [Train Acc: 71.635%] [Val Acc: 78.070%]\n",
      "[epoch: 03/10] [Total Loss: 0.690795] [Train Acc: 78.915%] [Val Acc: 82.420%]\n",
      "[epoch: 04/10] [Total Loss: 0.564135] [Train Acc: 82.338%] [Val Acc: 83.050%]\n",
      "[epoch: 05/10] [Total Loss: 0.492660] [Train Acc: 84.175%] [Val Acc: 85.770%]\n",
      "[epoch: 06/10] [Total Loss: 0.444744] [Train Acc: 85.605%] [Val Acc: 86.880%]\n",
      "[epoch: 07/10] [Total Loss: 0.414949] [Train Acc: 86.548%] [Val Acc: 87.040%]\n",
      "[epoch: 08/10] [Total Loss: 0.395597] [Train Acc: 87.008%] [Val Acc: 88.150%]\n",
      "[epoch: 09/10] [Total Loss: 0.370248] [Train Acc: 87.840%] [Val Acc: 87.360%]\n",
      "[epoch: 10/10] [Total Loss: 0.368203] [Train Acc: 87.788%] [Val Acc: 88.760%]\n"
     ]
    }
   ],
   "source": [
    "# Train the model.\n",
    "costume_model = CostumeNet()\n",
    "\n",
    "costume_model.fit(train_loader, val_loader, num_epochs=10, lr=0.0015, wd=0.0005, \n",
    "                  try_cuda=True, print_stride=1)"
   ]
  },
  {
   "cell_type": "markdown",
   "metadata": {},
   "source": [
    "## Results Comparison"
   ]
  },
  {
   "cell_type": "code",
   "execution_count": 9,
   "metadata": {},
   "outputs": [
    {
     "data": {
      "image/png": "[encoded data removed]",
      "text/plain": [
       "<Figure size 1000x1000 with 3 Axes>"
      ]
     },
     "metadata": {},
     "output_type": "display_data"
    }
   ],
   "source": [
    "# Results comparison\n",
    "\n",
    "# Plot the results.\n",
    "def plot_and_scatter(epochs: range, points: list[float], label: str, \n",
    "                     color: str = \"tab:blue\", marker: str = \"x\") -> None:\n",
    "    '''Plots the points and scatters them.'''\n",
    "    plt.plot(epochs, points, color=color)\n",
    "    plt.scatter(epochs, points, marker=marker, color=color, label=label)\n",
    "\n",
    "epochs = range(1, costume_model.epoch + 1, 1)\n",
    "\n",
    "plt.figure(figsize=(10, 10))\n",
    "plt.subplot(2, 1, 1)\n",
    "plot_and_scatter(epochs, normal_model.costs, \"Normal Net\", \"orange\", marker=\"x\")\n",
    "plot_and_scatter(epochs, costume_model.costs, \"Costume Net\", \"tab:blue\", marker=\"s\")\n",
    "plt.xlabel(\"Epoch\")\n",
    "plt.ylabel(\"Loss\")\n",
    "plt.legend()\n",
    "plt.title(\"Loss\")\n",
    "\n",
    "plt.subplot(2, 2, 3)\n",
    "plot_and_scatter(epochs, normal_model.train_accs, label=\"Normal Net\", color=\"orange\", marker=\"x\")\n",
    "plot_and_scatter(epochs, costume_model.train_accs, label=\"Costume Net\", color=\"tab:blue\", marker=\"s\")\n",
    "plt.xlabel(\"Epoch\")\n",
    "plt.ylabel(\"Accuracy\")\n",
    "plt.legend()\n",
    "plt.title(\"Train Accuracy\")\n",
    "\n",
    "plt.subplot(2, 2, 4)\n",
    "plot_and_scatter(epochs, normal_model.train_accs, label=\"Normal Net\", color=\"orange\", marker=\"x\")\n",
    "plot_and_scatter(epochs, costume_model.train_accs, label=\"Costume Net\", color=\"tab:blue\", marker=\"s\")\n",
    "plt.xlabel(\"Epoch\")\n",
    "plt.ylabel(\"Accuracy\")\n",
    "plt.legend()\n",
    "plt.title(\"Validation Accuracy\")\n",
    "\n",
    "plt.show()"
   ]
  },
  {
   "cell_type": "markdown",
   "metadata": {},
   "source": [
    "We can see that the costume net starting weak at the begining of the training and that overall the normal implementation yield better performance. In general, it is better to not combine the batch normalization and dropout layers together since sometimes you might want to use one without the other. For example, it's not a good practice to use dropout between convolutional layers, but it's very wise to use batch normalization there."
   ]
  }
 ],
 "metadata": {
  "kernelspec": {
   "display_name": "Python 3",
   "language": "python",
   "name": "python3"
  },
  "language_info": {
   "codemirror_mode": {
    "name": "ipython",
    "version": 3
   },
   "file_extension": ".py",
   "mimetype": "text/x-python",
   "name": "python",
   "nbconvert_exporter": "python",
   "pygments_lexer": "ipython3",
   "version": "3.11.6"
  }
 },
 "nbformat": 4,
 "nbformat_minor": 2
}
