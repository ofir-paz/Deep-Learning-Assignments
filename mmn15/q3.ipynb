{
 "cells": [
  {
   "cell_type": "markdown",
   "metadata": {},
   "source": [
    "# Teacher's Assignment No. 15 - Q3"
   ]
  },
  {
   "cell_type": "markdown",
   "metadata": {},
   "source": [
    "***Author:*** *Ofir Paz* $\\qquad$ ***Version:*** *19.03.2024* $\\qquad$ ***Course:*** *22961 - Deep Learning*\n",
    "\n",
    "Welcome to the third question from the fifth assignment of the course *Deep Learning*. \\\n",
    "In this question we will ..."
   ]
  },
  {
   "cell_type": "markdown",
   "metadata": {},
   "source": [
    "## Imports"
   ]
  },
  {
   "cell_type": "markdown",
   "metadata": {},
   "source": [
    "First, we will import the required packages for this assignment\n",
    "- [pytorch](https://pytorch.org/) - One of the most fundemental and famous tensor handling library."
   ]
  },
  {
   "cell_type": "code",
   "execution_count": 1,
   "metadata": {},
   "outputs": [],
   "source": [
    "import torch  # pytorch.\n",
    "import torch.nn as nn  # neural network module.\n",
    "import torch.optim as optim  # optimization module.\n",
    "import torch.nn.functional as F  # functional module.\n",
    "import numpy as np  # numpy.\n",
    "import cv2 as cv  # opencv.\n",
    "import torch.utils.data  # data handling module.\n",
    "import torchvision\n",
    "import torchvision.transforms as transforms  # image transformation module.\n",
    "from torch.utils.data import DataLoader  # data loader.\n",
    "from torchmetrics import Accuracy  # accuracy metric.\n",
    "import matplotlib.pyplot as plt  # plotting module."
   ]
  },
  {
   "cell_type": "code",
   "execution_count": 18,
   "metadata": {},
   "outputs": [],
   "source": [
    "# Set the memory device\n",
    "DEVICE = 'cuda' if torch.cuda.is_available() else 'cpu'\n",
    "\n",
    "# Set the batch size\n",
    "BATCH_SIZE = 128 if DEVICE == 'cuda' else 64\n",
    "\n",
    "# Set the number of classes\n",
    "NUM_CLASSES = 10"
   ]
  },
  {
   "cell_type": "code",
   "execution_count": 19,
   "metadata": {},
   "outputs": [
    {
     "name": "stdout",
     "output_type": "stream",
     "text": [
      "Files already downloaded and verified\n",
      "Files already downloaded and verified\n"
     ]
    }
   ],
   "source": [
    "# Define the transforms for the dataset\n",
    "def CV_RESIZE(img):\n",
    "  return cv.resize(img, (224, 224))\n",
    "\n",
    "transform = transforms.Compose([\n",
    "  # transforms.RandomHorizontalFlip(),\n",
    "  # transforms.RandomRotation(10),\n",
    "  np.array,\n",
    "  CV_RESIZE,\n",
    "  transforms.ToTensor(),\n",
    "  transforms.Normalize([0.485, 0.456, 0.406], [0.229, 0.224, 0.225], inplace=True),\n",
    "])\n",
    "\n",
    "train_set = torchvision.datasets.CIFAR10(root='CIFAR10', train=True,\n",
    "                                        download=True, transform=transform)\n",
    "valid_set = torchvision.datasets.CIFAR10(root='CIFAR10', train=False,\n",
    "                                        download=True, transform=transform)\n",
    "\n",
    "train_loader = DataLoader(train_set, BATCH_SIZE, shuffle=True)\n",
    "valid_loader = DataLoader(valid_set, BATCH_SIZE, shuffle=False)"
   ]
  },
  {
   "cell_type": "code",
   "execution_count": 4,
   "metadata": {},
   "outputs": [],
   "source": [
    "resnet18 = torchvision.models.resnet18(weights=torchvision.models.ResNet18_Weights.DEFAULT).to(DEVICE) "
   ]
  },
  {
   "cell_type": "code",
   "execution_count": 5,
   "metadata": {},
   "outputs": [],
   "source": [
    "for layer_name, layer in resnet18.named_children():\n",
    "  for param in layer.parameters():\n",
    "    param.requires_grad = False\n",
    "\n",
    "resnet18.fc = nn.Linear(512, NUM_CLASSES).to(DEVICE)"
   ]
  },
  {
   "cell_type": "code",
   "execution_count": 6,
   "metadata": {},
   "outputs": [],
   "source": [
    "optimizer = optim.Adam(resnet18.fc.parameters(), lr=0.0025)\n",
    "criterion = nn.CrossEntropyLoss()"
   ]
  },
  {
   "cell_type": "code",
   "execution_count": 22,
   "metadata": {},
   "outputs": [],
   "source": [
    "def train(model, data_loader, optimizer, criterion, num_epochs=10, print_cost=False, print_stride=1):\n",
    "  \"\"\"\n",
    "  Train the model.\n",
    "  \n",
    "  :param data_loader: The data loader.\n",
    "  :param num_epochs: The number of epochs.\n",
    "  :param lr: The learning rate.\n",
    "  :param weight_decay: The weight decay.\n",
    "  :param print_cost: A flag indicating if the cost should be printed.\n",
    "  :param print_stride: The stride for printing the cost.\n",
    "  :return: None.\n",
    "  \"\"\"\n",
    "  \n",
    "  costs = []\n",
    "  for epoch in range(num_epochs):\n",
    "    running_loss = 0.\n",
    "    for i, mini_batch in enumerate(data_loader):\n",
    "\n",
    "      # get the inputs; data is a list of [inputs, labels]\n",
    "      inputs, labels = mini_batch\n",
    "\n",
    "      inputs = inputs.to(DEVICE)\n",
    "      labels = labels.to(DEVICE)\n",
    "      \n",
    "      # zero the parameter gradients\n",
    "      optimizer.zero_grad()\n",
    "\n",
    "      # forward + backward + optimize\n",
    "      predicts = model(inputs)\n",
    "      \n",
    "      loss = criterion(predicts, labels)\n",
    "      loss.backward()\n",
    "      optimizer.step()\n",
    "\n",
    "      # Calc loss\n",
    "      lloss = loss.item()\n",
    "      running_loss += lloss * inputs.size(0)\n",
    "\n",
    "      if print_cost and i % 4 == 0:\n",
    "        print(f\"\\r[epoch: {epoch+1}/{num_epochs} MB: {i+1}/{len(data_loader)//BATCH_SIZE}] Loss: {lloss}\", end='')\n",
    "\n",
    "    epoch_loss = running_loss / (len(data_loader) * BATCH_SIZE)\n",
    "    costs.append(epoch_loss)\n",
    "    \n",
    "    if print_cost and (epoch % print_stride == 0 or epoch == num_epochs - 1):\n",
    "      print(f\"\\r[epoch: {epoch+1}/{num_epochs}] Total Loss: {epoch_loss}\")\n",
    "\n",
    "  return costs"
   ]
  },
  {
   "cell_type": "code",
   "execution_count": 21,
   "metadata": {},
   "outputs": [
    {
     "name": "stdout",
     "output_type": "stream",
     "text": [
      "[epoch: 1/2] Total Loss: 0.673122293942267397\n",
      "[epoch: 2/2] Total Loss: 0.6330192591566259125\n"
     ]
    }
   ],
   "source": [
    "optimizer = optim.Adam(resnet18.fc.parameters(), lr=0.00025)\n",
    "criterion = nn.CrossEntropyLoss()\n",
    "costs = train(resnet18, train_loader, optimizer, criterion, num_epochs=2, print_cost=True)"
   ]
  },
  {
   "cell_type": "code",
   "execution_count": 11,
   "metadata": {},
   "outputs": [],
   "source": [
    "def evaluate(model, data_loader):\n",
    "  \"\"\"\n",
    "  Evaluate the model.\n",
    "  \n",
    "  :param model: The model.\n",
    "  :param data_loader: The data loader.\n",
    "  :return: The accuracy\n",
    "  \"\"\"\n",
    "\n",
    "  accuracy_module = Accuracy(task=\"multiclass\", num_classes=NUM_CLASSES)\n",
    "  all_prob_preditions, all_labels = torch.tensor([]), torch.tensor([])\n",
    "\n",
    "  with torch.no_grad():\n",
    "    for inputs, labels in data_loader:\n",
    "      inputs = inputs.to(DEVICE)\n",
    "      prob_preditions = model(inputs).cpu()\n",
    "      all_prob_preditions = torch.cat((all_prob_preditions, prob_preditions))\n",
    "      all_labels = torch.cat((all_labels, labels))\n",
    "\n",
    "  accuracy = accuracy_module(all_prob_preditions.argmax(dim=-1), all_labels)\n",
    "  \n",
    "  return accuracy"
   ]
  },
  {
   "cell_type": "code",
   "execution_count": 24,
   "metadata": {},
   "outputs": [
    {
     "name": "stdout",
     "output_type": "stream",
     "text": [
      "Accuracy: 78.8%\n"
     ]
    }
   ],
   "source": [
    "print(f\"Accuracy: {evaluate(resnet18, valid_loader):.1%}\")"
   ]
  }
 ],
 "metadata": {
  "kernelspec": {
   "display_name": "Python 3",
   "language": "python",
   "name": "python3"
  },
  "language_info": {
   "codemirror_mode": {
    "name": "ipython",
    "version": 3
   },
   "file_extension": ".py",
   "mimetype": "text/x-python",
   "name": "python",
   "nbconvert_exporter": "python",
   "pygments_lexer": "ipython3",
   "version": "3.11.6"
  }
 },
 "nbformat": 4,
 "nbformat_minor": 2
}
